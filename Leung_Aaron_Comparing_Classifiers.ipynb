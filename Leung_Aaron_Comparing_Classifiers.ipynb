{
 "cells": [
  {
   "cell_type": "markdown",
   "metadata": {},
   "source": [
    "# Practical Application III: Comparing Classifiers\n",
    "\n",
    "**Overview**: In this practical application, your goal is to compare the performance of the classifiers we encountered in this section, namely K Nearest Neighbor, Logistic Regression, Decision Trees, and Support Vector Machines.  We will utilize a dataset related to marketing bank products over the telephone.  \n",
    "\n"
   ]
  },
  {
   "cell_type": "markdown",
   "metadata": {},
   "source": [
    "### Getting Started\n",
    "\n",
    "Our dataset comes from the UCI Machine Learning repository [link](https://archive.ics.uci.edu/ml/datasets/bank+marketing).  The data is from a Portugese banking institution and is a collection of the results of multiple marketing campaigns.  We will make use of the article accompanying the dataset [here](CRISP-DM-BANK.pdf) for more information on the data and features.\n",
    "\n"
   ]
  },
  {
   "cell_type": "markdown",
   "metadata": {},
   "source": [
    "### Problem 1: Understanding the Data\n",
    "\n",
    "To gain a better understanding of the data, please read the information provided in the UCI link above, and examine the **Materials and Methods** section of the paper.  How many marketing campaigns does this data represent?"
   ]
  },
  {
   "cell_type": "markdown",
   "metadata": {},
   "source": [
    "According to the article, the dataset was collected from **17 campaigns** that occurred between May 2008 and November 2010."
   ]
  },
  {
   "cell_type": "markdown",
   "metadata": {},
   "source": [
    "### Problem 2: Read in the Data\n",
    "\n",
    "Use pandas to read in the dataset `bank-additional-full.csv` and assign to a meaningful variable name."
   ]
  },
  {
   "cell_type": "code",
   "execution_count": 1,
   "metadata": {},
   "outputs": [],
   "source": [
    "import pandas as pd\n",
    "import numpy as np\n",
    "import matplotlib.pyplot as plt\n",
    "import seaborn as sns\n",
    "from sklearn.preprocessing import OrdinalEncoder\n",
    "from sklearn.model_selection import train_test_split\n",
    "from sklearn.linear_model import LogisticRegression\n",
    "import time\n",
    "from sklearn.metrics import accuracy_score, recall_score\n",
    "from sklearn.neighbors import KNeighborsClassifier\n",
    "from sklearn.tree import DecisionTreeClassifier\n",
    "from sklearn.svm import SVC\n",
    "from imblearn.pipeline import Pipeline as Pipeline\n",
    "from sklearn.preprocessing import StandardScaler\n",
    "from sklearn.model_selection import GridSearchCV\n",
    "from sklearn.metrics import classification_report\n",
    "import warnings"
   ]
  },
  {
   "cell_type": "code",
   "execution_count": 2,
   "metadata": {},
   "outputs": [],
   "source": [
    "df = pd.read_csv('data/bank-additional-full.csv', sep = ';')"
   ]
  },
  {
   "cell_type": "code",
   "execution_count": 3,
   "metadata": {},
   "outputs": [
    {
     "data": {
      "text/html": [
       "<div>\n",
       "<style scoped>\n",
       "    .dataframe tbody tr th:only-of-type {\n",
       "        vertical-align: middle;\n",
       "    }\n",
       "\n",
       "    .dataframe tbody tr th {\n",
       "        vertical-align: top;\n",
       "    }\n",
       "\n",
       "    .dataframe thead th {\n",
       "        text-align: right;\n",
       "    }\n",
       "</style>\n",
       "<table border=\"1\" class=\"dataframe\">\n",
       "  <thead>\n",
       "    <tr style=\"text-align: right;\">\n",
       "      <th></th>\n",
       "      <th>age</th>\n",
       "      <th>job</th>\n",
       "      <th>marital</th>\n",
       "      <th>education</th>\n",
       "      <th>default</th>\n",
       "      <th>housing</th>\n",
       "      <th>loan</th>\n",
       "      <th>contact</th>\n",
       "      <th>month</th>\n",
       "      <th>day_of_week</th>\n",
       "      <th>...</th>\n",
       "      <th>campaign</th>\n",
       "      <th>pdays</th>\n",
       "      <th>previous</th>\n",
       "      <th>poutcome</th>\n",
       "      <th>emp.var.rate</th>\n",
       "      <th>cons.price.idx</th>\n",
       "      <th>cons.conf.idx</th>\n",
       "      <th>euribor3m</th>\n",
       "      <th>nr.employed</th>\n",
       "      <th>y</th>\n",
       "    </tr>\n",
       "  </thead>\n",
       "  <tbody>\n",
       "    <tr>\n",
       "      <th>0</th>\n",
       "      <td>56</td>\n",
       "      <td>housemaid</td>\n",
       "      <td>married</td>\n",
       "      <td>basic.4y</td>\n",
       "      <td>no</td>\n",
       "      <td>no</td>\n",
       "      <td>no</td>\n",
       "      <td>telephone</td>\n",
       "      <td>may</td>\n",
       "      <td>mon</td>\n",
       "      <td>...</td>\n",
       "      <td>1</td>\n",
       "      <td>999</td>\n",
       "      <td>0</td>\n",
       "      <td>nonexistent</td>\n",
       "      <td>1.1</td>\n",
       "      <td>93.994</td>\n",
       "      <td>-36.4</td>\n",
       "      <td>4.857</td>\n",
       "      <td>5191.0</td>\n",
       "      <td>no</td>\n",
       "    </tr>\n",
       "    <tr>\n",
       "      <th>1</th>\n",
       "      <td>57</td>\n",
       "      <td>services</td>\n",
       "      <td>married</td>\n",
       "      <td>high.school</td>\n",
       "      <td>unknown</td>\n",
       "      <td>no</td>\n",
       "      <td>no</td>\n",
       "      <td>telephone</td>\n",
       "      <td>may</td>\n",
       "      <td>mon</td>\n",
       "      <td>...</td>\n",
       "      <td>1</td>\n",
       "      <td>999</td>\n",
       "      <td>0</td>\n",
       "      <td>nonexistent</td>\n",
       "      <td>1.1</td>\n",
       "      <td>93.994</td>\n",
       "      <td>-36.4</td>\n",
       "      <td>4.857</td>\n",
       "      <td>5191.0</td>\n",
       "      <td>no</td>\n",
       "    </tr>\n",
       "    <tr>\n",
       "      <th>2</th>\n",
       "      <td>37</td>\n",
       "      <td>services</td>\n",
       "      <td>married</td>\n",
       "      <td>high.school</td>\n",
       "      <td>no</td>\n",
       "      <td>yes</td>\n",
       "      <td>no</td>\n",
       "      <td>telephone</td>\n",
       "      <td>may</td>\n",
       "      <td>mon</td>\n",
       "      <td>...</td>\n",
       "      <td>1</td>\n",
       "      <td>999</td>\n",
       "      <td>0</td>\n",
       "      <td>nonexistent</td>\n",
       "      <td>1.1</td>\n",
       "      <td>93.994</td>\n",
       "      <td>-36.4</td>\n",
       "      <td>4.857</td>\n",
       "      <td>5191.0</td>\n",
       "      <td>no</td>\n",
       "    </tr>\n",
       "    <tr>\n",
       "      <th>3</th>\n",
       "      <td>40</td>\n",
       "      <td>admin.</td>\n",
       "      <td>married</td>\n",
       "      <td>basic.6y</td>\n",
       "      <td>no</td>\n",
       "      <td>no</td>\n",
       "      <td>no</td>\n",
       "      <td>telephone</td>\n",
       "      <td>may</td>\n",
       "      <td>mon</td>\n",
       "      <td>...</td>\n",
       "      <td>1</td>\n",
       "      <td>999</td>\n",
       "      <td>0</td>\n",
       "      <td>nonexistent</td>\n",
       "      <td>1.1</td>\n",
       "      <td>93.994</td>\n",
       "      <td>-36.4</td>\n",
       "      <td>4.857</td>\n",
       "      <td>5191.0</td>\n",
       "      <td>no</td>\n",
       "    </tr>\n",
       "    <tr>\n",
       "      <th>4</th>\n",
       "      <td>56</td>\n",
       "      <td>services</td>\n",
       "      <td>married</td>\n",
       "      <td>high.school</td>\n",
       "      <td>no</td>\n",
       "      <td>no</td>\n",
       "      <td>yes</td>\n",
       "      <td>telephone</td>\n",
       "      <td>may</td>\n",
       "      <td>mon</td>\n",
       "      <td>...</td>\n",
       "      <td>1</td>\n",
       "      <td>999</td>\n",
       "      <td>0</td>\n",
       "      <td>nonexistent</td>\n",
       "      <td>1.1</td>\n",
       "      <td>93.994</td>\n",
       "      <td>-36.4</td>\n",
       "      <td>4.857</td>\n",
       "      <td>5191.0</td>\n",
       "      <td>no</td>\n",
       "    </tr>\n",
       "  </tbody>\n",
       "</table>\n",
       "<p>5 rows × 21 columns</p>\n",
       "</div>"
      ],
      "text/plain": [
       "   age        job  marital    education  default housing loan    contact  \\\n",
       "0   56  housemaid  married     basic.4y       no      no   no  telephone   \n",
       "1   57   services  married  high.school  unknown      no   no  telephone   \n",
       "2   37   services  married  high.school       no     yes   no  telephone   \n",
       "3   40     admin.  married     basic.6y       no      no   no  telephone   \n",
       "4   56   services  married  high.school       no      no  yes  telephone   \n",
       "\n",
       "  month day_of_week  ...  campaign  pdays  previous     poutcome emp.var.rate  \\\n",
       "0   may         mon  ...         1    999         0  nonexistent          1.1   \n",
       "1   may         mon  ...         1    999         0  nonexistent          1.1   \n",
       "2   may         mon  ...         1    999         0  nonexistent          1.1   \n",
       "3   may         mon  ...         1    999         0  nonexistent          1.1   \n",
       "4   may         mon  ...         1    999         0  nonexistent          1.1   \n",
       "\n",
       "   cons.price.idx  cons.conf.idx  euribor3m  nr.employed   y  \n",
       "0          93.994          -36.4      4.857       5191.0  no  \n",
       "1          93.994          -36.4      4.857       5191.0  no  \n",
       "2          93.994          -36.4      4.857       5191.0  no  \n",
       "3          93.994          -36.4      4.857       5191.0  no  \n",
       "4          93.994          -36.4      4.857       5191.0  no  \n",
       "\n",
       "[5 rows x 21 columns]"
      ]
     },
     "execution_count": 3,
     "metadata": {},
     "output_type": "execute_result"
    }
   ],
   "source": [
    "df.head()"
   ]
  },
  {
   "cell_type": "markdown",
   "metadata": {},
   "source": [
    "### Problem 3: Understanding the Features\n",
    "\n",
    "\n",
    "Examine the data description below, and determine if any of the features are missing values or need to be coerced to a different data type.\n",
    "\n",
    "\n",
    "```\n",
    "Input variables:\n",
    "# bank client data:\n",
    "1 - age (numeric)\n",
    "2 - job : type of job (categorical: 'admin.','blue-collar','entrepreneur','housemaid','management','retired','self-employed','services','student','technician','unemployed','unknown')\n",
    "3 - marital : marital status (categorical: 'divorced','married','single','unknown'; note: 'divorced' means divorced or widowed)\n",
    "4 - education (categorical: 'basic.4y','basic.6y','basic.9y','high.school','illiterate','professional.course','university.degree','unknown')\n",
    "5 - default: has credit in default? (categorical: 'no','yes','unknown')\n",
    "6 - housing: has housing loan? (categorical: 'no','yes','unknown')\n",
    "7 - loan: has personal loan? (categorical: 'no','yes','unknown')\n",
    "# related with the last contact of the current campaign:\n",
    "8 - contact: contact communication type (categorical: 'cellular','telephone')\n",
    "9 - month: last contact month of year (categorical: 'jan', 'feb', 'mar', ..., 'nov', 'dec')\n",
    "10 - day_of_week: last contact day of the week (categorical: 'mon','tue','wed','thu','fri')\n",
    "11 - duration: last contact duration, in seconds (numeric). Important note: this attribute highly affects the output target (e.g., if duration=0 then y='no'). Yet, the duration is not known before a call is performed. Also, after the end of the call y is obviously known. Thus, this input should only be included for benchmark purposes and should be discarded if the intention is to have a realistic predictive model.\n",
    "# other attributes:\n",
    "12 - campaign: number of contacts performed during this campaign and for this client (numeric, includes last contact)\n",
    "13 - pdays: number of days that passed by after the client was last contacted from a previous campaign (numeric; 999 means client was not previously contacted)\n",
    "14 - previous: number of contacts performed before this campaign and for this client (numeric)\n",
    "15 - poutcome: outcome of the previous marketing campaign (categorical: 'failure','nonexistent','success')\n",
    "# social and economic context attributes\n",
    "16 - emp.var.rate: employment variation rate - quarterly indicator (numeric)\n",
    "17 - cons.price.idx: consumer price index - monthly indicator (numeric)\n",
    "18 - cons.conf.idx: consumer confidence index - monthly indicator (numeric)\n",
    "19 - euribor3m: euribor 3 month rate - daily indicator (numeric)\n",
    "20 - nr.employed: number of employees - quarterly indicator (numeric)\n",
    "\n",
    "Output variable (desired target):\n",
    "21 - y - has the client subscribed a term deposit? (binary: 'yes','no')\n",
    "```\n",
    "\n"
   ]
  },
  {
   "cell_type": "markdown",
   "metadata": {},
   "source": [
    "1. First, we will check for any null values:"
   ]
  },
  {
   "cell_type": "code",
   "execution_count": 4,
   "metadata": {
    "scrolled": true
   },
   "outputs": [
    {
     "data": {
      "text/plain": [
       "age               0\n",
       "job               0\n",
       "marital           0\n",
       "education         0\n",
       "default           0\n",
       "housing           0\n",
       "loan              0\n",
       "contact           0\n",
       "month             0\n",
       "day_of_week       0\n",
       "duration          0\n",
       "campaign          0\n",
       "pdays             0\n",
       "previous          0\n",
       "poutcome          0\n",
       "emp.var.rate      0\n",
       "cons.price.idx    0\n",
       "cons.conf.idx     0\n",
       "euribor3m         0\n",
       "nr.employed       0\n",
       "y                 0\n",
       "dtype: int64"
      ]
     },
     "execution_count": 4,
     "metadata": {},
     "output_type": "execute_result"
    }
   ],
   "source": [
    "# check the amount of missing values for each column\n",
    "df.isnull().sum()"
   ]
  },
  {
   "cell_type": "markdown",
   "metadata": {},
   "source": [
    "**Observations:**\n",
    "- None of the columns have any missing values"
   ]
  },
  {
   "cell_type": "markdown",
   "metadata": {},
   "source": [
    "2. While the data description already contains data types for each category, it would be beneficial to view each feature and it's distribution using a for each loop"
   ]
  },
  {
   "cell_type": "code",
   "execution_count": 5,
   "metadata": {},
   "outputs": [],
   "source": [
    "# extracting columns with object data type\n",
    "object_columns = df.select_dtypes(include=['object'])"
   ]
  },
  {
   "cell_type": "code",
   "execution_count": 6,
   "metadata": {
    "scrolled": true
   },
   "outputs": [
    {
     "data": {
      "text/html": [
       "<div>\n",
       "<style scoped>\n",
       "    .dataframe tbody tr th:only-of-type {\n",
       "        vertical-align: middle;\n",
       "    }\n",
       "\n",
       "    .dataframe tbody tr th {\n",
       "        vertical-align: top;\n",
       "    }\n",
       "\n",
       "    .dataframe thead th {\n",
       "        text-align: right;\n",
       "    }\n",
       "</style>\n",
       "<table border=\"1\" class=\"dataframe\">\n",
       "  <thead>\n",
       "    <tr style=\"text-align: right;\">\n",
       "      <th></th>\n",
       "      <th>job</th>\n",
       "      <th>marital</th>\n",
       "      <th>education</th>\n",
       "      <th>default</th>\n",
       "      <th>housing</th>\n",
       "      <th>loan</th>\n",
       "      <th>contact</th>\n",
       "      <th>month</th>\n",
       "      <th>day_of_week</th>\n",
       "      <th>poutcome</th>\n",
       "      <th>y</th>\n",
       "    </tr>\n",
       "  </thead>\n",
       "  <tbody>\n",
       "    <tr>\n",
       "      <th>0</th>\n",
       "      <td>housemaid</td>\n",
       "      <td>married</td>\n",
       "      <td>basic.4y</td>\n",
       "      <td>no</td>\n",
       "      <td>no</td>\n",
       "      <td>no</td>\n",
       "      <td>telephone</td>\n",
       "      <td>may</td>\n",
       "      <td>mon</td>\n",
       "      <td>nonexistent</td>\n",
       "      <td>no</td>\n",
       "    </tr>\n",
       "    <tr>\n",
       "      <th>1</th>\n",
       "      <td>services</td>\n",
       "      <td>married</td>\n",
       "      <td>high.school</td>\n",
       "      <td>unknown</td>\n",
       "      <td>no</td>\n",
       "      <td>no</td>\n",
       "      <td>telephone</td>\n",
       "      <td>may</td>\n",
       "      <td>mon</td>\n",
       "      <td>nonexistent</td>\n",
       "      <td>no</td>\n",
       "    </tr>\n",
       "    <tr>\n",
       "      <th>2</th>\n",
       "      <td>services</td>\n",
       "      <td>married</td>\n",
       "      <td>high.school</td>\n",
       "      <td>no</td>\n",
       "      <td>yes</td>\n",
       "      <td>no</td>\n",
       "      <td>telephone</td>\n",
       "      <td>may</td>\n",
       "      <td>mon</td>\n",
       "      <td>nonexistent</td>\n",
       "      <td>no</td>\n",
       "    </tr>\n",
       "    <tr>\n",
       "      <th>3</th>\n",
       "      <td>admin.</td>\n",
       "      <td>married</td>\n",
       "      <td>basic.6y</td>\n",
       "      <td>no</td>\n",
       "      <td>no</td>\n",
       "      <td>no</td>\n",
       "      <td>telephone</td>\n",
       "      <td>may</td>\n",
       "      <td>mon</td>\n",
       "      <td>nonexistent</td>\n",
       "      <td>no</td>\n",
       "    </tr>\n",
       "    <tr>\n",
       "      <th>4</th>\n",
       "      <td>services</td>\n",
       "      <td>married</td>\n",
       "      <td>high.school</td>\n",
       "      <td>no</td>\n",
       "      <td>no</td>\n",
       "      <td>yes</td>\n",
       "      <td>telephone</td>\n",
       "      <td>may</td>\n",
       "      <td>mon</td>\n",
       "      <td>nonexistent</td>\n",
       "      <td>no</td>\n",
       "    </tr>\n",
       "    <tr>\n",
       "      <th>...</th>\n",
       "      <td>...</td>\n",
       "      <td>...</td>\n",
       "      <td>...</td>\n",
       "      <td>...</td>\n",
       "      <td>...</td>\n",
       "      <td>...</td>\n",
       "      <td>...</td>\n",
       "      <td>...</td>\n",
       "      <td>...</td>\n",
       "      <td>...</td>\n",
       "      <td>...</td>\n",
       "    </tr>\n",
       "    <tr>\n",
       "      <th>41183</th>\n",
       "      <td>retired</td>\n",
       "      <td>married</td>\n",
       "      <td>professional.course</td>\n",
       "      <td>no</td>\n",
       "      <td>yes</td>\n",
       "      <td>no</td>\n",
       "      <td>cellular</td>\n",
       "      <td>nov</td>\n",
       "      <td>fri</td>\n",
       "      <td>nonexistent</td>\n",
       "      <td>yes</td>\n",
       "    </tr>\n",
       "    <tr>\n",
       "      <th>41184</th>\n",
       "      <td>blue-collar</td>\n",
       "      <td>married</td>\n",
       "      <td>professional.course</td>\n",
       "      <td>no</td>\n",
       "      <td>no</td>\n",
       "      <td>no</td>\n",
       "      <td>cellular</td>\n",
       "      <td>nov</td>\n",
       "      <td>fri</td>\n",
       "      <td>nonexistent</td>\n",
       "      <td>no</td>\n",
       "    </tr>\n",
       "    <tr>\n",
       "      <th>41185</th>\n",
       "      <td>retired</td>\n",
       "      <td>married</td>\n",
       "      <td>university.degree</td>\n",
       "      <td>no</td>\n",
       "      <td>yes</td>\n",
       "      <td>no</td>\n",
       "      <td>cellular</td>\n",
       "      <td>nov</td>\n",
       "      <td>fri</td>\n",
       "      <td>nonexistent</td>\n",
       "      <td>no</td>\n",
       "    </tr>\n",
       "    <tr>\n",
       "      <th>41186</th>\n",
       "      <td>technician</td>\n",
       "      <td>married</td>\n",
       "      <td>professional.course</td>\n",
       "      <td>no</td>\n",
       "      <td>no</td>\n",
       "      <td>no</td>\n",
       "      <td>cellular</td>\n",
       "      <td>nov</td>\n",
       "      <td>fri</td>\n",
       "      <td>nonexistent</td>\n",
       "      <td>yes</td>\n",
       "    </tr>\n",
       "    <tr>\n",
       "      <th>41187</th>\n",
       "      <td>retired</td>\n",
       "      <td>married</td>\n",
       "      <td>professional.course</td>\n",
       "      <td>no</td>\n",
       "      <td>yes</td>\n",
       "      <td>no</td>\n",
       "      <td>cellular</td>\n",
       "      <td>nov</td>\n",
       "      <td>fri</td>\n",
       "      <td>failure</td>\n",
       "      <td>no</td>\n",
       "    </tr>\n",
       "  </tbody>\n",
       "</table>\n",
       "<p>41188 rows × 11 columns</p>\n",
       "</div>"
      ],
      "text/plain": [
       "               job  marital            education  default housing loan  \\\n",
       "0        housemaid  married             basic.4y       no      no   no   \n",
       "1         services  married          high.school  unknown      no   no   \n",
       "2         services  married          high.school       no     yes   no   \n",
       "3           admin.  married             basic.6y       no      no   no   \n",
       "4         services  married          high.school       no      no  yes   \n",
       "...            ...      ...                  ...      ...     ...  ...   \n",
       "41183      retired  married  professional.course       no     yes   no   \n",
       "41184  blue-collar  married  professional.course       no      no   no   \n",
       "41185      retired  married    university.degree       no     yes   no   \n",
       "41186   technician  married  professional.course       no      no   no   \n",
       "41187      retired  married  professional.course       no     yes   no   \n",
       "\n",
       "         contact month day_of_week     poutcome    y  \n",
       "0      telephone   may         mon  nonexistent   no  \n",
       "1      telephone   may         mon  nonexistent   no  \n",
       "2      telephone   may         mon  nonexistent   no  \n",
       "3      telephone   may         mon  nonexistent   no  \n",
       "4      telephone   may         mon  nonexistent   no  \n",
       "...          ...   ...         ...          ...  ...  \n",
       "41183   cellular   nov         fri  nonexistent  yes  \n",
       "41184   cellular   nov         fri  nonexistent   no  \n",
       "41185   cellular   nov         fri  nonexistent   no  \n",
       "41186   cellular   nov         fri  nonexistent  yes  \n",
       "41187   cellular   nov         fri      failure   no  \n",
       "\n",
       "[41188 rows x 11 columns]"
      ]
     },
     "execution_count": 6,
     "metadata": {},
     "output_type": "execute_result"
    }
   ],
   "source": [
    "object_columns"
   ]
  },
  {
   "cell_type": "code",
   "execution_count": 7,
   "metadata": {
    "scrolled": true
   },
   "outputs": [
    {
     "name": "stdout",
     "output_type": "stream",
     "text": [
      "Feature: job\n",
      "               count percentage\n",
      "admin.         10422      25.3%\n",
      "blue-collar     9254      22.5%\n",
      "technician      6743      16.4%\n",
      "services        3969       9.6%\n",
      "management      2924       7.1%\n",
      "retired         1720       4.2%\n",
      "entrepreneur    1456       3.5%\n",
      "self-employed   1421       3.5%\n",
      "housemaid       1060       2.6%\n",
      "unemployed      1014       2.5%\n",
      "student          875       2.1%\n",
      "unknown          330       0.8% \n",
      "\n",
      "\n",
      "Feature: marital\n",
      "          count percentage\n",
      "married   24928      60.5%\n",
      "single    11568      28.1%\n",
      "divorced   4612      11.2%\n",
      "unknown      80       0.2% \n",
      "\n",
      "\n",
      "Feature: education\n",
      "                     count percentage\n",
      "university.degree    12168      29.5%\n",
      "high.school           9515      23.1%\n",
      "basic.9y              6045      14.7%\n",
      "professional.course   5243      12.7%\n",
      "basic.4y              4176      10.1%\n",
      "basic.6y              2292       5.6%\n",
      "unknown               1731       4.2%\n",
      "illiterate              18       0.0% \n",
      "\n",
      "\n",
      "Feature: default\n",
      "         count percentage\n",
      "no       32588      79.1%\n",
      "unknown   8597      20.9%\n",
      "yes          3       0.0% \n",
      "\n",
      "\n",
      "Feature: housing\n",
      "         count percentage\n",
      "yes      21576      52.4%\n",
      "no       18622      45.2%\n",
      "unknown    990       2.4% \n",
      "\n",
      "\n",
      "Feature: loan\n",
      "         count percentage\n",
      "no       33950      82.4%\n",
      "yes       6248      15.2%\n",
      "unknown    990       2.4% \n",
      "\n",
      "\n",
      "Feature: contact\n",
      "           count percentage\n",
      "cellular   26144      63.5%\n",
      "telephone  15044      36.5% \n",
      "\n",
      "\n",
      "Feature: month\n",
      "     count percentage\n",
      "may  13769      33.4%\n",
      "jul   7174      17.4%\n",
      "aug   6178      15.0%\n",
      "jun   5318      12.9%\n",
      "nov   4101      10.0%\n",
      "apr   2632       6.4%\n",
      "oct    718       1.7%\n",
      "sep    570       1.4%\n",
      "mar    546       1.3%\n",
      "dec    182       0.4% \n",
      "\n",
      "\n",
      "Feature: day_of_week\n",
      "     count percentage\n",
      "thu   8623      20.9%\n",
      "mon   8514      20.7%\n",
      "wed   8134      19.7%\n",
      "tue   8090      19.6%\n",
      "fri   7827      19.0% \n",
      "\n",
      "\n",
      "Feature: poutcome\n",
      "             count percentage\n",
      "nonexistent  35563      86.3%\n",
      "failure       4252      10.3%\n",
      "success       1373       3.3% \n",
      "\n",
      "\n",
      "Feature: y\n",
      "     count percentage\n",
      "no   36548      88.7%\n",
      "yes   4640      11.3% \n",
      "\n",
      "\n"
     ]
    }
   ],
   "source": [
    "# using for each loop to display value counts for each class per feature\n",
    "for col in object_columns:\n",
    "    counts = df[col].value_counts()\n",
    "    perc = (df[col].value_counts(normalize=True) * 100).round(1).astype(str) + '%'\n",
    "    print('Feature: ' + col)\n",
    "    print(pd.DataFrame({'count': counts, 'percentage': perc}), '\\n\\n')\n",
    "    "
   ]
  },
  {
   "cell_type": "markdown",
   "metadata": {},
   "source": [
    "**Observations**\n",
    "- Categorical features will likely need to be converted to numerical features before we build our models.\n",
    "- Depending on the nature of the categorial feature (ex. does it have inherent ranking), we will need to use the appropriate encoding method:\n",
    "    - Use ordinal encoding to preserve ranking \n",
    "    - Use one-hot encoding for features without inherent ranking\n",
    "- Will convert Target Class from no/yes to 0/1"
   ]
  },
  {
   "cell_type": "markdown",
   "metadata": {},
   "source": [
    "### Problem 4: Understanding the Task\n",
    "\n",
    "After examining the description and data, your goal now is to clearly state the *Business Objective* of the task.  State the objective below."
   ]
  },
  {
   "cell_type": "code",
   "execution_count": 8,
   "metadata": {},
   "outputs": [
    {
     "name": "stdout",
     "output_type": "stream",
     "text": [
      "<class 'pandas.core.frame.DataFrame'>\n",
      "RangeIndex: 41188 entries, 0 to 41187\n",
      "Data columns (total 21 columns):\n",
      " #   Column          Non-Null Count  Dtype  \n",
      "---  ------          --------------  -----  \n",
      " 0   age             41188 non-null  int64  \n",
      " 1   job             41188 non-null  object \n",
      " 2   marital         41188 non-null  object \n",
      " 3   education       41188 non-null  object \n",
      " 4   default         41188 non-null  object \n",
      " 5   housing         41188 non-null  object \n",
      " 6   loan            41188 non-null  object \n",
      " 7   contact         41188 non-null  object \n",
      " 8   month           41188 non-null  object \n",
      " 9   day_of_week     41188 non-null  object \n",
      " 10  duration        41188 non-null  int64  \n",
      " 11  campaign        41188 non-null  int64  \n",
      " 12  pdays           41188 non-null  int64  \n",
      " 13  previous        41188 non-null  int64  \n",
      " 14  poutcome        41188 non-null  object \n",
      " 15  emp.var.rate    41188 non-null  float64\n",
      " 16  cons.price.idx  41188 non-null  float64\n",
      " 17  cons.conf.idx   41188 non-null  float64\n",
      " 18  euribor3m       41188 non-null  float64\n",
      " 19  nr.employed     41188 non-null  float64\n",
      " 20  y               41188 non-null  object \n",
      "dtypes: float64(5), int64(5), object(11)\n",
      "memory usage: 6.6+ MB\n"
     ]
    }
   ],
   "source": [
    "df.info()"
   ]
  },
  {
   "cell_type": "markdown",
   "metadata": {},
   "source": [
    "**Business Objective:**\n",
    "\n",
    "Banks aim to enhance the effectiveness and efficiency of their marketing campaigns focused on promoting term deposits. To achieve this, the business objective is to build models that can accurately predict which clients are likely to subscribe to a term deposit based on the list of features shown above. In doing so, these models can help identify features that contribute to client subscription, thereby improving the bank's ability to market more efficiently and allocate resources better. "
   ]
  },
  {
   "cell_type": "markdown",
   "metadata": {},
   "source": [
    "### Problem 5: Engineering Features\n",
    "\n",
    "Now that you understand your business objective, we will build a basic model to get started.  Before we can do this, we must work to encode the data.  Using just the bank information features, prepare the features and target column for modeling with appropriate encoding and transformations."
   ]
  },
  {
   "cell_type": "markdown",
   "metadata": {},
   "source": [
    "### 5a. Data Exploration"
   ]
  },
  {
   "cell_type": "code",
   "execution_count": 9,
   "metadata": {},
   "outputs": [
    {
     "data": {
      "text/html": [
       "<div>\n",
       "<style scoped>\n",
       "    .dataframe tbody tr th:only-of-type {\n",
       "        vertical-align: middle;\n",
       "    }\n",
       "\n",
       "    .dataframe tbody tr th {\n",
       "        vertical-align: top;\n",
       "    }\n",
       "\n",
       "    .dataframe thead th {\n",
       "        text-align: right;\n",
       "    }\n",
       "</style>\n",
       "<table border=\"1\" class=\"dataframe\">\n",
       "  <thead>\n",
       "    <tr style=\"text-align: right;\">\n",
       "      <th></th>\n",
       "      <th>age</th>\n",
       "      <th>job</th>\n",
       "      <th>marital</th>\n",
       "      <th>education</th>\n",
       "      <th>default</th>\n",
       "      <th>housing</th>\n",
       "      <th>loan</th>\n",
       "    </tr>\n",
       "  </thead>\n",
       "  <tbody>\n",
       "    <tr>\n",
       "      <th>0</th>\n",
       "      <td>56</td>\n",
       "      <td>housemaid</td>\n",
       "      <td>married</td>\n",
       "      <td>basic.4y</td>\n",
       "      <td>no</td>\n",
       "      <td>no</td>\n",
       "      <td>no</td>\n",
       "    </tr>\n",
       "    <tr>\n",
       "      <th>1</th>\n",
       "      <td>57</td>\n",
       "      <td>services</td>\n",
       "      <td>married</td>\n",
       "      <td>high.school</td>\n",
       "      <td>unknown</td>\n",
       "      <td>no</td>\n",
       "      <td>no</td>\n",
       "    </tr>\n",
       "    <tr>\n",
       "      <th>2</th>\n",
       "      <td>37</td>\n",
       "      <td>services</td>\n",
       "      <td>married</td>\n",
       "      <td>high.school</td>\n",
       "      <td>no</td>\n",
       "      <td>yes</td>\n",
       "      <td>no</td>\n",
       "    </tr>\n",
       "    <tr>\n",
       "      <th>3</th>\n",
       "      <td>40</td>\n",
       "      <td>admin.</td>\n",
       "      <td>married</td>\n",
       "      <td>basic.6y</td>\n",
       "      <td>no</td>\n",
       "      <td>no</td>\n",
       "      <td>no</td>\n",
       "    </tr>\n",
       "    <tr>\n",
       "      <th>4</th>\n",
       "      <td>56</td>\n",
       "      <td>services</td>\n",
       "      <td>married</td>\n",
       "      <td>high.school</td>\n",
       "      <td>no</td>\n",
       "      <td>no</td>\n",
       "      <td>yes</td>\n",
       "    </tr>\n",
       "    <tr>\n",
       "      <th>...</th>\n",
       "      <td>...</td>\n",
       "      <td>...</td>\n",
       "      <td>...</td>\n",
       "      <td>...</td>\n",
       "      <td>...</td>\n",
       "      <td>...</td>\n",
       "      <td>...</td>\n",
       "    </tr>\n",
       "    <tr>\n",
       "      <th>41183</th>\n",
       "      <td>73</td>\n",
       "      <td>retired</td>\n",
       "      <td>married</td>\n",
       "      <td>professional.course</td>\n",
       "      <td>no</td>\n",
       "      <td>yes</td>\n",
       "      <td>no</td>\n",
       "    </tr>\n",
       "    <tr>\n",
       "      <th>41184</th>\n",
       "      <td>46</td>\n",
       "      <td>blue-collar</td>\n",
       "      <td>married</td>\n",
       "      <td>professional.course</td>\n",
       "      <td>no</td>\n",
       "      <td>no</td>\n",
       "      <td>no</td>\n",
       "    </tr>\n",
       "    <tr>\n",
       "      <th>41185</th>\n",
       "      <td>56</td>\n",
       "      <td>retired</td>\n",
       "      <td>married</td>\n",
       "      <td>university.degree</td>\n",
       "      <td>no</td>\n",
       "      <td>yes</td>\n",
       "      <td>no</td>\n",
       "    </tr>\n",
       "    <tr>\n",
       "      <th>41186</th>\n",
       "      <td>44</td>\n",
       "      <td>technician</td>\n",
       "      <td>married</td>\n",
       "      <td>professional.course</td>\n",
       "      <td>no</td>\n",
       "      <td>no</td>\n",
       "      <td>no</td>\n",
       "    </tr>\n",
       "    <tr>\n",
       "      <th>41187</th>\n",
       "      <td>74</td>\n",
       "      <td>retired</td>\n",
       "      <td>married</td>\n",
       "      <td>professional.course</td>\n",
       "      <td>no</td>\n",
       "      <td>yes</td>\n",
       "      <td>no</td>\n",
       "    </tr>\n",
       "  </tbody>\n",
       "</table>\n",
       "<p>41188 rows × 7 columns</p>\n",
       "</div>"
      ],
      "text/plain": [
       "       age          job  marital            education  default housing loan\n",
       "0       56    housemaid  married             basic.4y       no      no   no\n",
       "1       57     services  married          high.school  unknown      no   no\n",
       "2       37     services  married          high.school       no     yes   no\n",
       "3       40       admin.  married             basic.6y       no      no   no\n",
       "4       56     services  married          high.school       no      no  yes\n",
       "...    ...          ...      ...                  ...      ...     ...  ...\n",
       "41183   73      retired  married  professional.course       no     yes   no\n",
       "41184   46  blue-collar  married  professional.course       no      no   no\n",
       "41185   56      retired  married    university.degree       no     yes   no\n",
       "41186   44   technician  married  professional.course       no      no   no\n",
       "41187   74      retired  married  professional.course       no     yes   no\n",
       "\n",
       "[41188 rows x 7 columns]"
      ]
     },
     "execution_count": 9,
     "metadata": {},
     "output_type": "execute_result"
    }
   ],
   "source": [
    "# According to the data description, bank information (bank client features) corresponds to the first seven features\n",
    "# Creating a new dataframe with only these seven features\n",
    "df_bank_features = df.iloc[: , : 7]\n",
    "df_bank_features"
   ]
  },
  {
   "cell_type": "code",
   "execution_count": 10,
   "metadata": {},
   "outputs": [
    {
     "name": "stdout",
     "output_type": "stream",
     "text": [
      "<class 'pandas.core.frame.DataFrame'>\n",
      "RangeIndex: 41188 entries, 0 to 41187\n",
      "Data columns (total 7 columns):\n",
      " #   Column     Non-Null Count  Dtype \n",
      "---  ------     --------------  ----- \n",
      " 0   age        41188 non-null  int64 \n",
      " 1   job        41188 non-null  object\n",
      " 2   marital    41188 non-null  object\n",
      " 3   education  41188 non-null  object\n",
      " 4   default    41188 non-null  object\n",
      " 5   housing    41188 non-null  object\n",
      " 6   loan       41188 non-null  object\n",
      "dtypes: int64(1), object(6)\n",
      "memory usage: 2.2+ MB\n"
     ]
    }
   ],
   "source": [
    "df_bank_features.info()"
   ]
  },
  {
   "cell_type": "markdown",
   "metadata": {},
   "source": [
    "**Observations:**\n",
    "- Every feature besides age is categorical\n",
    "- Further exploration required to determine which features have ordinal ranking"
   ]
  },
  {
   "cell_type": "code",
   "execution_count": 11,
   "metadata": {},
   "outputs": [],
   "source": [
    "# extracting columns with object data type\n",
    "bank_object_columns = df_bank_features.select_dtypes(include=['object'])"
   ]
  },
  {
   "cell_type": "code",
   "execution_count": 12,
   "metadata": {
    "scrolled": true
   },
   "outputs": [
    {
     "name": "stdout",
     "output_type": "stream",
     "text": [
      "Feature: job\n",
      "               count percentage\n",
      "admin.         10422      25.3%\n",
      "blue-collar     9254      22.5%\n",
      "technician      6743      16.4%\n",
      "services        3969       9.6%\n",
      "management      2924       7.1%\n",
      "retired         1720       4.2%\n",
      "entrepreneur    1456       3.5%\n",
      "self-employed   1421       3.5%\n",
      "housemaid       1060       2.6%\n",
      "unemployed      1014       2.5%\n",
      "student          875       2.1%\n",
      "unknown          330       0.8% \n",
      "\n",
      "\n",
      "Feature: marital\n",
      "          count percentage\n",
      "married   24928      60.5%\n",
      "single    11568      28.1%\n",
      "divorced   4612      11.2%\n",
      "unknown      80       0.2% \n",
      "\n",
      "\n",
      "Feature: education\n",
      "                     count percentage\n",
      "university.degree    12168      29.5%\n",
      "high.school           9515      23.1%\n",
      "basic.9y              6045      14.7%\n",
      "professional.course   5243      12.7%\n",
      "basic.4y              4176      10.1%\n",
      "basic.6y              2292       5.6%\n",
      "unknown               1731       4.2%\n",
      "illiterate              18       0.0% \n",
      "\n",
      "\n",
      "Feature: default\n",
      "         count percentage\n",
      "no       32588      79.1%\n",
      "unknown   8597      20.9%\n",
      "yes          3       0.0% \n",
      "\n",
      "\n",
      "Feature: housing\n",
      "         count percentage\n",
      "yes      21576      52.4%\n",
      "no       18622      45.2%\n",
      "unknown    990       2.4% \n",
      "\n",
      "\n",
      "Feature: loan\n",
      "         count percentage\n",
      "no       33950      82.4%\n",
      "yes       6248      15.2%\n",
      "unknown    990       2.4% \n",
      "\n",
      "\n"
     ]
    }
   ],
   "source": [
    "# using for each loop to display value counts for each class per feature\n",
    "for col in bank_object_columns:\n",
    "    counts = df[col].value_counts()\n",
    "    perc = (df[col].value_counts(normalize=True) * 100).round(1).astype(str) + '%'\n",
    "    print('Feature: ' + col)\n",
    "    print(pd.DataFrame({'count': counts, 'percentage': perc}), '\\n\\n')"
   ]
  },
  {
   "cell_type": "markdown",
   "metadata": {},
   "source": [
    "**Observations:**\n",
    "- Among the categorical features, 'education' can be considered to have ordinal ranking. Therefore, we should preserve this ranking when converting to a numerical feature\n",
    "- The other features do not have any ordinal ranking so we can apply one-hot encoding to these features"
   ]
  },
  {
   "cell_type": "markdown",
   "metadata": {},
   "source": [
    "### 5b. Encoding Categorical Features"
   ]
  },
  {
   "cell_type": "markdown",
   "metadata": {},
   "source": [
    "1. Encoding categorical features with ordinal ranking:\n",
    "- Education"
   ]
  },
  {
   "cell_type": "code",
   "execution_count": 13,
   "metadata": {},
   "outputs": [],
   "source": [
    "# First, define list of educations with numerical rankings\n",
    "# Purpose: explicitly specify order for OrdinalEncoder when assigning numerical value\n",
    "education_list = [\n",
    "    'illiterate',\n",
    "    'basic.4y',\n",
    "    'basic.6y',\n",
    "    'basic.9y',\n",
    "    'high.school',\n",
    "    'professional.course',\n",
    "    'university.degree',\n",
    "    'unknown'\n",
    "]"
   ]
  },
  {
   "cell_type": "code",
   "execution_count": 14,
   "metadata": {},
   "outputs": [],
   "source": [
    "# Instantiate OrdinalEncoder\n",
    "ordinal_encoder = OrdinalEncoder(categories=[education_list], dtype=int)\n",
    "\n",
    "# Fit and transform education feature in original dataframe\n",
    "# OrdinalEncoder expects 2D array as input, need to add [[]] even when dealing with a single column\n",
    "df_bank_features['education'] = ordinal_encoder.fit_transform(df_bank_features[['education']])"
   ]
  },
  {
   "cell_type": "code",
   "execution_count": 15,
   "metadata": {
    "scrolled": true
   },
   "outputs": [
    {
     "data": {
      "text/html": [
       "<div>\n",
       "<style scoped>\n",
       "    .dataframe tbody tr th:only-of-type {\n",
       "        vertical-align: middle;\n",
       "    }\n",
       "\n",
       "    .dataframe tbody tr th {\n",
       "        vertical-align: top;\n",
       "    }\n",
       "\n",
       "    .dataframe thead th {\n",
       "        text-align: right;\n",
       "    }\n",
       "</style>\n",
       "<table border=\"1\" class=\"dataframe\">\n",
       "  <thead>\n",
       "    <tr style=\"text-align: right;\">\n",
       "      <th></th>\n",
       "      <th>age</th>\n",
       "      <th>job</th>\n",
       "      <th>marital</th>\n",
       "      <th>education</th>\n",
       "      <th>default</th>\n",
       "      <th>housing</th>\n",
       "      <th>loan</th>\n",
       "    </tr>\n",
       "  </thead>\n",
       "  <tbody>\n",
       "    <tr>\n",
       "      <th>0</th>\n",
       "      <td>56</td>\n",
       "      <td>housemaid</td>\n",
       "      <td>married</td>\n",
       "      <td>1</td>\n",
       "      <td>no</td>\n",
       "      <td>no</td>\n",
       "      <td>no</td>\n",
       "    </tr>\n",
       "    <tr>\n",
       "      <th>1</th>\n",
       "      <td>57</td>\n",
       "      <td>services</td>\n",
       "      <td>married</td>\n",
       "      <td>4</td>\n",
       "      <td>unknown</td>\n",
       "      <td>no</td>\n",
       "      <td>no</td>\n",
       "    </tr>\n",
       "    <tr>\n",
       "      <th>2</th>\n",
       "      <td>37</td>\n",
       "      <td>services</td>\n",
       "      <td>married</td>\n",
       "      <td>4</td>\n",
       "      <td>no</td>\n",
       "      <td>yes</td>\n",
       "      <td>no</td>\n",
       "    </tr>\n",
       "    <tr>\n",
       "      <th>3</th>\n",
       "      <td>40</td>\n",
       "      <td>admin.</td>\n",
       "      <td>married</td>\n",
       "      <td>2</td>\n",
       "      <td>no</td>\n",
       "      <td>no</td>\n",
       "      <td>no</td>\n",
       "    </tr>\n",
       "    <tr>\n",
       "      <th>4</th>\n",
       "      <td>56</td>\n",
       "      <td>services</td>\n",
       "      <td>married</td>\n",
       "      <td>4</td>\n",
       "      <td>no</td>\n",
       "      <td>no</td>\n",
       "      <td>yes</td>\n",
       "    </tr>\n",
       "    <tr>\n",
       "      <th>...</th>\n",
       "      <td>...</td>\n",
       "      <td>...</td>\n",
       "      <td>...</td>\n",
       "      <td>...</td>\n",
       "      <td>...</td>\n",
       "      <td>...</td>\n",
       "      <td>...</td>\n",
       "    </tr>\n",
       "    <tr>\n",
       "      <th>41183</th>\n",
       "      <td>73</td>\n",
       "      <td>retired</td>\n",
       "      <td>married</td>\n",
       "      <td>5</td>\n",
       "      <td>no</td>\n",
       "      <td>yes</td>\n",
       "      <td>no</td>\n",
       "    </tr>\n",
       "    <tr>\n",
       "      <th>41184</th>\n",
       "      <td>46</td>\n",
       "      <td>blue-collar</td>\n",
       "      <td>married</td>\n",
       "      <td>5</td>\n",
       "      <td>no</td>\n",
       "      <td>no</td>\n",
       "      <td>no</td>\n",
       "    </tr>\n",
       "    <tr>\n",
       "      <th>41185</th>\n",
       "      <td>56</td>\n",
       "      <td>retired</td>\n",
       "      <td>married</td>\n",
       "      <td>6</td>\n",
       "      <td>no</td>\n",
       "      <td>yes</td>\n",
       "      <td>no</td>\n",
       "    </tr>\n",
       "    <tr>\n",
       "      <th>41186</th>\n",
       "      <td>44</td>\n",
       "      <td>technician</td>\n",
       "      <td>married</td>\n",
       "      <td>5</td>\n",
       "      <td>no</td>\n",
       "      <td>no</td>\n",
       "      <td>no</td>\n",
       "    </tr>\n",
       "    <tr>\n",
       "      <th>41187</th>\n",
       "      <td>74</td>\n",
       "      <td>retired</td>\n",
       "      <td>married</td>\n",
       "      <td>5</td>\n",
       "      <td>no</td>\n",
       "      <td>yes</td>\n",
       "      <td>no</td>\n",
       "    </tr>\n",
       "  </tbody>\n",
       "</table>\n",
       "<p>41188 rows × 7 columns</p>\n",
       "</div>"
      ],
      "text/plain": [
       "       age          job  marital  education  default housing loan\n",
       "0       56    housemaid  married          1       no      no   no\n",
       "1       57     services  married          4  unknown      no   no\n",
       "2       37     services  married          4       no     yes   no\n",
       "3       40       admin.  married          2       no      no   no\n",
       "4       56     services  married          4       no      no  yes\n",
       "...    ...          ...      ...        ...      ...     ...  ...\n",
       "41183   73      retired  married          5       no     yes   no\n",
       "41184   46  blue-collar  married          5       no      no   no\n",
       "41185   56      retired  married          6       no     yes   no\n",
       "41186   44   technician  married          5       no      no   no\n",
       "41187   74      retired  married          5       no     yes   no\n",
       "\n",
       "[41188 rows x 7 columns]"
      ]
     },
     "execution_count": 15,
     "metadata": {},
     "output_type": "execute_result"
    }
   ],
   "source": [
    "df_bank_features"
   ]
  },
  {
   "cell_type": "code",
   "execution_count": 16,
   "metadata": {
    "scrolled": true
   },
   "outputs": [
    {
     "data": {
      "text/plain": [
       "6    12168\n",
       "4     9515\n",
       "3     6045\n",
       "5     5243\n",
       "1     4176\n",
       "2     2292\n",
       "7     1731\n",
       "0       18\n",
       "Name: education, dtype: int64"
      ]
     },
     "execution_count": 16,
     "metadata": {},
     "output_type": "execute_result"
    }
   ],
   "source": [
    "# verify that transformation worked properly\n",
    "df_bank_features['education'].value_counts()"
   ]
  },
  {
   "cell_type": "code",
   "execution_count": 17,
   "metadata": {
    "scrolled": true
   },
   "outputs": [
    {
     "name": "stdout",
     "output_type": "stream",
     "text": [
      "<class 'pandas.core.frame.DataFrame'>\n",
      "RangeIndex: 41188 entries, 0 to 41187\n",
      "Data columns (total 7 columns):\n",
      " #   Column     Non-Null Count  Dtype \n",
      "---  ------     --------------  ----- \n",
      " 0   age        41188 non-null  int64 \n",
      " 1   job        41188 non-null  object\n",
      " 2   marital    41188 non-null  object\n",
      " 3   education  41188 non-null  int64 \n",
      " 4   default    41188 non-null  object\n",
      " 5   housing    41188 non-null  object\n",
      " 6   loan       41188 non-null  object\n",
      "dtypes: int64(2), object(5)\n",
      "memory usage: 2.2+ MB\n"
     ]
    }
   ],
   "source": [
    "# features before applying one-hot encoding\n",
    "df_bank_features.info()"
   ]
  },
  {
   "cell_type": "markdown",
   "metadata": {},
   "source": [
    "2. One-hot encode remainder categorical features"
   ]
  },
  {
   "cell_type": "code",
   "execution_count": 18,
   "metadata": {},
   "outputs": [],
   "source": [
    "# One hot encoding using pd.get_dummies\n",
    "# Originally used OneHotEncoder but some columns were missing after applying OneHotEncoder\n",
    "ohe_features = ['job', 'marital', 'default', 'housing', 'loan']\n",
    "\n",
    "df_bank_features_final = pd.get_dummies(df_bank_features, columns=ohe_features)"
   ]
  },
  {
   "cell_type": "code",
   "execution_count": 19,
   "metadata": {
    "scrolled": true
   },
   "outputs": [
    {
     "name": "stdout",
     "output_type": "stream",
     "text": [
      "<class 'pandas.core.frame.DataFrame'>\n",
      "RangeIndex: 41188 entries, 0 to 41187\n",
      "Data columns (total 27 columns):\n",
      " #   Column             Non-Null Count  Dtype\n",
      "---  ------             --------------  -----\n",
      " 0   age                41188 non-null  int64\n",
      " 1   education          41188 non-null  int64\n",
      " 2   job_admin.         41188 non-null  uint8\n",
      " 3   job_blue-collar    41188 non-null  uint8\n",
      " 4   job_entrepreneur   41188 non-null  uint8\n",
      " 5   job_housemaid      41188 non-null  uint8\n",
      " 6   job_management     41188 non-null  uint8\n",
      " 7   job_retired        41188 non-null  uint8\n",
      " 8   job_self-employed  41188 non-null  uint8\n",
      " 9   job_services       41188 non-null  uint8\n",
      " 10  job_student        41188 non-null  uint8\n",
      " 11  job_technician     41188 non-null  uint8\n",
      " 12  job_unemployed     41188 non-null  uint8\n",
      " 13  job_unknown        41188 non-null  uint8\n",
      " 14  marital_divorced   41188 non-null  uint8\n",
      " 15  marital_married    41188 non-null  uint8\n",
      " 16  marital_single     41188 non-null  uint8\n",
      " 17  marital_unknown    41188 non-null  uint8\n",
      " 18  default_no         41188 non-null  uint8\n",
      " 19  default_unknown    41188 non-null  uint8\n",
      " 20  default_yes        41188 non-null  uint8\n",
      " 21  housing_no         41188 non-null  uint8\n",
      " 22  housing_unknown    41188 non-null  uint8\n",
      " 23  housing_yes        41188 non-null  uint8\n",
      " 24  loan_no            41188 non-null  uint8\n",
      " 25  loan_unknown       41188 non-null  uint8\n",
      " 26  loan_yes           41188 non-null  uint8\n",
      "dtypes: int64(2), uint8(25)\n",
      "memory usage: 1.6 MB\n"
     ]
    }
   ],
   "source": [
    "df_bank_features_final.info()"
   ]
  },
  {
   "cell_type": "code",
   "execution_count": 20,
   "metadata": {
    "scrolled": false
   },
   "outputs": [
    {
     "name": "stdout",
     "output_type": "stream",
     "text": [
      "Feature: age\n",
      "    count percentage\n",
      "31   1947       4.7%\n",
      "32   1846       4.5%\n",
      "33   1833       4.5%\n",
      "36   1780       4.3%\n",
      "35   1759       4.3%\n",
      "..    ...        ...\n",
      "89      2       0.0%\n",
      "91      2       0.0%\n",
      "94      1       0.0%\n",
      "87      1       0.0%\n",
      "95      1       0.0%\n",
      "\n",
      "[78 rows x 2 columns] \n",
      "\n",
      "\n",
      "Feature: education\n",
      "   count percentage\n",
      "6  12168      29.5%\n",
      "4   9515      23.1%\n",
      "3   6045      14.7%\n",
      "5   5243      12.7%\n",
      "1   4176      10.1%\n",
      "2   2292       5.6%\n",
      "7   1731       4.2%\n",
      "0     18       0.0% \n",
      "\n",
      "\n",
      "Feature: job_admin.\n",
      "   count percentage\n",
      "0  30766      74.7%\n",
      "1  10422      25.3% \n",
      "\n",
      "\n",
      "Feature: job_blue-collar\n",
      "   count percentage\n",
      "0  31934      77.5%\n",
      "1   9254      22.5% \n",
      "\n",
      "\n",
      "Feature: job_entrepreneur\n",
      "   count percentage\n",
      "0  39732      96.5%\n",
      "1   1456       3.5% \n",
      "\n",
      "\n",
      "Feature: job_housemaid\n",
      "   count percentage\n",
      "0  40128      97.4%\n",
      "1   1060       2.6% \n",
      "\n",
      "\n",
      "Feature: job_management\n",
      "   count percentage\n",
      "0  38264      92.9%\n",
      "1   2924       7.1% \n",
      "\n",
      "\n",
      "Feature: job_retired\n",
      "   count percentage\n",
      "0  39468      95.8%\n",
      "1   1720       4.2% \n",
      "\n",
      "\n",
      "Feature: job_self-employed\n",
      "   count percentage\n",
      "0  39767      96.5%\n",
      "1   1421       3.5% \n",
      "\n",
      "\n",
      "Feature: job_services\n",
      "   count percentage\n",
      "0  37219      90.4%\n",
      "1   3969       9.6% \n",
      "\n",
      "\n",
      "Feature: job_student\n",
      "   count percentage\n",
      "0  40313      97.9%\n",
      "1    875       2.1% \n",
      "\n",
      "\n",
      "Feature: job_technician\n",
      "   count percentage\n",
      "0  34445      83.6%\n",
      "1   6743      16.4% \n",
      "\n",
      "\n",
      "Feature: job_unemployed\n",
      "   count percentage\n",
      "0  40174      97.5%\n",
      "1   1014       2.5% \n",
      "\n",
      "\n",
      "Feature: job_unknown\n",
      "   count percentage\n",
      "0  40858      99.2%\n",
      "1    330       0.8% \n",
      "\n",
      "\n",
      "Feature: marital_divorced\n",
      "   count percentage\n",
      "0  36576      88.8%\n",
      "1   4612      11.2% \n",
      "\n",
      "\n",
      "Feature: marital_married\n",
      "   count percentage\n",
      "1  24928      60.5%\n",
      "0  16260      39.5% \n",
      "\n",
      "\n",
      "Feature: marital_single\n",
      "   count percentage\n",
      "0  29620      71.9%\n",
      "1  11568      28.1% \n",
      "\n",
      "\n",
      "Feature: marital_unknown\n",
      "   count percentage\n",
      "0  41108      99.8%\n",
      "1     80       0.2% \n",
      "\n",
      "\n",
      "Feature: default_no\n",
      "   count percentage\n",
      "1  32588      79.1%\n",
      "0   8600      20.9% \n",
      "\n",
      "\n",
      "Feature: default_unknown\n",
      "   count percentage\n",
      "0  32591      79.1%\n",
      "1   8597      20.9% \n",
      "\n",
      "\n",
      "Feature: default_yes\n",
      "   count percentage\n",
      "0  41185     100.0%\n",
      "1      3       0.0% \n",
      "\n",
      "\n",
      "Feature: housing_no\n",
      "   count percentage\n",
      "0  22566      54.8%\n",
      "1  18622      45.2% \n",
      "\n",
      "\n",
      "Feature: housing_unknown\n",
      "   count percentage\n",
      "0  40198      97.6%\n",
      "1    990       2.4% \n",
      "\n",
      "\n",
      "Feature: housing_yes\n",
      "   count percentage\n",
      "1  21576      52.4%\n",
      "0  19612      47.6% \n",
      "\n",
      "\n",
      "Feature: loan_no\n",
      "   count percentage\n",
      "1  33950      82.4%\n",
      "0   7238      17.6% \n",
      "\n",
      "\n",
      "Feature: loan_unknown\n",
      "   count percentage\n",
      "0  40198      97.6%\n",
      "1    990       2.4% \n",
      "\n",
      "\n",
      "Feature: loan_yes\n",
      "   count percentage\n",
      "0  34940      84.8%\n",
      "1   6248      15.2% \n",
      "\n",
      "\n"
     ]
    }
   ],
   "source": [
    "# verify categorical features are encoded properly\n",
    "# using for each loop to display value counts for each class per feature\n",
    "for col in df_bank_features_final.columns:\n",
    "    counts = df_bank_features_final[col].value_counts()\n",
    "    perc = (df_bank_features_final[col].value_counts(normalize=True) * 100).round(1).astype(str) + '%'\n",
    "    print('Feature: ' + col)\n",
    "    print(pd.DataFrame({'count': counts, 'percentage': perc}), '\\n\\n')"
   ]
  },
  {
   "cell_type": "code",
   "execution_count": 21,
   "metadata": {},
   "outputs": [
    {
     "name": "stdout",
     "output_type": "stream",
     "text": [
      "<class 'pandas.core.frame.DataFrame'>\n",
      "RangeIndex: 41188 entries, 0 to 41187\n",
      "Data columns (total 27 columns):\n",
      " #   Column             Non-Null Count  Dtype\n",
      "---  ------             --------------  -----\n",
      " 0   age                41188 non-null  int64\n",
      " 1   education          41188 non-null  int64\n",
      " 2   job_admin.         41188 non-null  uint8\n",
      " 3   job_blue-collar    41188 non-null  uint8\n",
      " 4   job_entrepreneur   41188 non-null  uint8\n",
      " 5   job_housemaid      41188 non-null  uint8\n",
      " 6   job_management     41188 non-null  uint8\n",
      " 7   job_retired        41188 non-null  uint8\n",
      " 8   job_self-employed  41188 non-null  uint8\n",
      " 9   job_services       41188 non-null  uint8\n",
      " 10  job_student        41188 non-null  uint8\n",
      " 11  job_technician     41188 non-null  uint8\n",
      " 12  job_unemployed     41188 non-null  uint8\n",
      " 13  job_unknown        41188 non-null  uint8\n",
      " 14  marital_divorced   41188 non-null  uint8\n",
      " 15  marital_married    41188 non-null  uint8\n",
      " 16  marital_single     41188 non-null  uint8\n",
      " 17  marital_unknown    41188 non-null  uint8\n",
      " 18  default_no         41188 non-null  uint8\n",
      " 19  default_unknown    41188 non-null  uint8\n",
      " 20  default_yes        41188 non-null  uint8\n",
      " 21  housing_no         41188 non-null  uint8\n",
      " 22  housing_unknown    41188 non-null  uint8\n",
      " 23  housing_yes        41188 non-null  uint8\n",
      " 24  loan_no            41188 non-null  uint8\n",
      " 25  loan_unknown       41188 non-null  uint8\n",
      " 26  loan_yes           41188 non-null  uint8\n",
      "dtypes: int64(2), uint8(25)\n",
      "memory usage: 1.6 MB\n"
     ]
    }
   ],
   "source": [
    "# features after applying one-hot encoding\n",
    "df_bank_features_final.info()"
   ]
  },
  {
   "cell_type": "markdown",
   "metadata": {},
   "source": [
    "### Problem 6: Train/Test Split\n",
    "\n",
    "With your data prepared, split it into a train and test set."
   ]
  },
  {
   "cell_type": "markdown",
   "metadata": {},
   "source": [
    "### 6a. Examining Target Variable Distribution"
   ]
  },
  {
   "cell_type": "markdown",
   "metadata": {},
   "source": [
    "Before we perform Train/Test Split, we should visualize the distribution of our target variable as this will impact the performance of our models that we will build."
   ]
  },
  {
   "cell_type": "code",
   "execution_count": 22,
   "metadata": {},
   "outputs": [],
   "source": [
    "# converting target variables represented as strings ('Yes' or 'No') into binary numerical values (1 or 0)\n",
    "df['y'] = np.where(df['y'] == 'yes', 1, 0)"
   ]
  },
  {
   "cell_type": "code",
   "execution_count": 23,
   "metadata": {},
   "outputs": [],
   "source": [
    "# Assigning target variable to y\n",
    "y = df['y']"
   ]
  },
  {
   "cell_type": "code",
   "execution_count": 24,
   "metadata": {
    "scrolled": true
   },
   "outputs": [
    {
     "name": "stdout",
     "output_type": "stream",
     "text": [
      "0    0.887346\n",
      "1    0.112654\n",
      "Name: y, dtype: float64\n"
     ]
    }
   ],
   "source": [
    "# Visualizing the distribution\n",
    "\n",
    "# calculate distribution\n",
    "distribution = df['y'].value_counts()\n",
    "\n",
    "# More useful to view distribution in terms of proportions\n",
    "proportions = distribution/distribution.sum()\n",
    "\n",
    "# print out proportions\n",
    "print(proportions)"
   ]
  },
  {
   "cell_type": "code",
   "execution_count": 25,
   "metadata": {
    "scrolled": true
   },
   "outputs": [
    {
     "data": {
      "text/html": [
       "<div>\n",
       "<style scoped>\n",
       "    .dataframe tbody tr th:only-of-type {\n",
       "        vertical-align: middle;\n",
       "    }\n",
       "\n",
       "    .dataframe tbody tr th {\n",
       "        vertical-align: top;\n",
       "    }\n",
       "\n",
       "    .dataframe thead th {\n",
       "        text-align: right;\n",
       "    }\n",
       "</style>\n",
       "<table border=\"1\" class=\"dataframe\">\n",
       "  <thead>\n",
       "    <tr style=\"text-align: right;\">\n",
       "      <th></th>\n",
       "      <th>index</th>\n",
       "      <th>y</th>\n",
       "    </tr>\n",
       "  </thead>\n",
       "  <tbody>\n",
       "    <tr>\n",
       "      <th>0</th>\n",
       "      <td>0</td>\n",
       "      <td>0.887346</td>\n",
       "    </tr>\n",
       "    <tr>\n",
       "      <th>1</th>\n",
       "      <td>1</td>\n",
       "      <td>0.112654</td>\n",
       "    </tr>\n",
       "  </tbody>\n",
       "</table>\n",
       "</div>"
      ],
      "text/plain": [
       "   index         y\n",
       "0      0  0.887346\n",
       "1      1  0.112654"
      ]
     },
     "execution_count": 25,
     "metadata": {},
     "output_type": "execute_result"
    }
   ],
   "source": [
    "# Creating DataFrame for proportions\n",
    "proportions_df = proportions.reset_index()\n",
    "proportions_df"
   ]
  },
  {
   "cell_type": "code",
   "execution_count": 26,
   "metadata": {
    "scrolled": true
   },
   "outputs": [
    {
     "data": {
      "image/png": "[encoded data removed]",
      "text/plain": [
       "<Figure size 800x600 with 1 Axes>"
      ]
     },
     "metadata": {},
     "output_type": "display_data"
    }
   ],
   "source": [
    "# Renaming the columns\n",
    "proportions_df.columns = ['target_variable', 'proportion']\n",
    "\n",
    "# Plot using seaborn\n",
    "plt.figure(figsize=(8, 6))\n",
    "ax = sns.barplot(x='target_variable', y='proportion', data=proportions_df)\n",
    "\n",
    "# Add annotations\n",
    "for i, row in proportions_df.iterrows():\n",
    "    ax.text(i, row['proportion'], f'{row[\"proportion\"]:.2f}', color='black', ha=\"center\", va=\"bottom\")\n",
    "\n",
    "    \n",
    "plt.xlabel('Target Variable (y)')\n",
    "plt.ylabel('Proportion')\n",
    "plt.title('Target Variable Distribution')\n",
    "plt.show()"
   ]
  },
  {
   "cell_type": "markdown",
   "metadata": {},
   "source": [
    "**Observations:**\n",
    "- As we can see, there is a significant class imbalance with minority class (1) representing 11%\n",
    "- Class imbalance needs to be taken into consideration when assessing performance of our models\n",
    "- We can add 'stratify' parameter to ensure that both the training and testing sets have similar distribution of target class"
   ]
  },
  {
   "cell_type": "markdown",
   "metadata": {},
   "source": [
    "### 6b. Performing Train/Test Split "
   ]
  },
  {
   "cell_type": "markdown",
   "metadata": {},
   "source": [
    "Now we perform train/test split. We will add 'stratify' parameter for reasons described above."
   ]
  },
  {
   "cell_type": "code",
   "execution_count": 27,
   "metadata": {},
   "outputs": [],
   "source": [
    "X_train, X_test, y_train, y_test = train_test_split(df_bank_features_final, y, test_size = 0.3, stratify = y, random_state = 42)"
   ]
  },
  {
   "cell_type": "code",
   "execution_count": 28,
   "metadata": {
    "scrolled": true
   },
   "outputs": [
    {
     "data": {
      "text/plain": [
       "0    0.887343\n",
       "1    0.112657\n",
       "Name: y, dtype: float64"
      ]
     },
     "execution_count": 28,
     "metadata": {},
     "output_type": "execute_result"
    }
   ],
   "source": [
    "# Distribution of y_train\n",
    "y_train.value_counts(normalize = True)"
   ]
  },
  {
   "cell_type": "code",
   "execution_count": 29,
   "metadata": {
    "scrolled": true
   },
   "outputs": [
    {
     "data": {
      "text/plain": [
       "0    0.887351\n",
       "1    0.112649\n",
       "Name: y, dtype: float64"
      ]
     },
     "execution_count": 29,
     "metadata": {},
     "output_type": "execute_result"
    }
   ],
   "source": [
    "# Distribution of y_test\n",
    "y_test.value_counts(normalize = True)"
   ]
  },
  {
   "cell_type": "markdown",
   "metadata": {},
   "source": [
    "**Note:**\n",
    "- I experimented without using 'stratify' parameter and the distributions were relatively similar. However, it could have just been a coicidence so I have included the parameter."
   ]
  },
  {
   "cell_type": "markdown",
   "metadata": {},
   "source": [
    "### Problem 7: A Baseline Model\n",
    "\n",
    "Before we build our first model, we want to establish a baseline.  What is the baseline performance that our classifier should aim to beat?"
   ]
  },
  {
   "cell_type": "code",
   "execution_count": 30,
   "metadata": {},
   "outputs": [
    {
     "data": {
      "text/plain": [
       "0    0.887346\n",
       "1    0.112654\n",
       "Name: y, dtype: float64"
      ]
     },
     "execution_count": 30,
     "metadata": {},
     "output_type": "execute_result"
    }
   ],
   "source": [
    "# Use target variable's value_counts() as the baseline performance\n",
    "y.value_counts(normalize = True)"
   ]
  },
  {
   "cell_type": "markdown",
   "metadata": {},
   "source": [
    "**Observations:**\n",
    "- We will consider the baseline performance in terms of the majority class (0). From the observed distributions, we can see that 88.7% of the samples belong to class 0 while 11.3% of the samples belong to class 1.\n",
    "- Therefore, the accuracy of this baseline model is equal to the proportion of the **majority class** which is **88.7%**."
   ]
  },
  {
   "cell_type": "markdown",
   "metadata": {},
   "source": [
    "### Problem 8: A Simple Model\n",
    "\n",
    "Use Logistic Regression to build a basic model on your data.  "
   ]
  },
  {
   "cell_type": "code",
   "execution_count": 31,
   "metadata": {},
   "outputs": [],
   "source": [
    "warnings.filterwarnings('ignore')"
   ]
  },
  {
   "cell_type": "code",
   "execution_count": 32,
   "metadata": {},
   "outputs": [],
   "source": [
    "# Creating lists to store fit time, train accuracy and test accuracy\n",
    "# These will be used for reporting results in dataframe\n",
    "model_list = []\n",
    "time_list = []\n",
    "train_accuracy_list = []\n",
    "test_accuracy_list = []"
   ]
  },
  {
   "cell_type": "markdown",
   "metadata": {},
   "source": [
    "### Logistic Regression Base Model:"
   ]
  },
  {
   "cell_type": "code",
   "execution_count": 33,
   "metadata": {},
   "outputs": [
    {
     "name": "stdout",
     "output_type": "stream",
     "text": [
      "Time taken to train Logistic Regression model: 0.5930 seconds\n"
     ]
    }
   ],
   "source": [
    "# Initialize Logistic Regression object with default parameters, except for setting random_state = 42\n",
    "# Received convergence warning so setting max_iter to 10000 instead of using default\n",
    "lgr_base_model = LogisticRegression(random_state = 42, max_iter = 10000)\n",
    "\n",
    "# Want to compute fit time of model\n",
    "# Measuring starting time and ending time, then taking the difference to obtain fit time\n",
    "start_time = time.time()\n",
    "\n",
    "# Fitting model\n",
    "lgr_base_model.fit(X_train, y_train)\n",
    "\n",
    "end_time = time.time()\n",
    "\n",
    "# Calculating fit time of model\n",
    "lgr_fit_time = end_time - start_time\n",
    "\n",
    "print(f\"Time taken to train Logistic Regression model: {lgr_fit_time:.4f} seconds\")"
   ]
  },
  {
   "cell_type": "markdown",
   "metadata": {},
   "source": [
    "### Problem 9: Score the Model\n",
    "\n",
    "What is the accuracy of your model?"
   ]
  },
  {
   "cell_type": "markdown",
   "metadata": {},
   "source": [
    "### 9a. Accuracy of Logistic Regression Model"
   ]
  },
  {
   "cell_type": "code",
   "execution_count": 34,
   "metadata": {
    "scrolled": true
   },
   "outputs": [
    {
     "name": "stdout",
     "output_type": "stream",
     "text": [
      "Training accuracy: 0.8873\n",
      "Testing accuracy: 0.8874\n"
     ]
    }
   ],
   "source": [
    "# Predictions using train set\n",
    "lgr_base_train_predictions = lgr_base_model.predict(X_train)\n",
    "\n",
    "# Predictions using test set\n",
    "lgr_base_test_predictions = lgr_base_model.predict(X_test)\n",
    "\n",
    "# Compute accuracy score for Train and Test\n",
    "lgr_base_train_accuracy = accuracy_score(y_train, lgr_base_train_predictions)\n",
    "lgr_base_test_accuracy = accuracy_score(y_test, lgr_base_test_predictions)\n",
    "\n",
    "print(f\"Training accuracy: {lgr_base_train_accuracy:.4f}\")\n",
    "print(f\"Testing accuracy: {lgr_base_test_accuracy:.4f}\")"
   ]
  },
  {
   "cell_type": "markdown",
   "metadata": {},
   "source": [
    "**Observations:**\n",
    "- Accuracy for Logistic Regression model is comparable to the baseline accuracy"
   ]
  },
  {
   "cell_type": "markdown",
   "metadata": {},
   "source": [
    "### 9b. Viewing Classification Report"
   ]
  },
  {
   "cell_type": "markdown",
   "metadata": {},
   "source": [
    "Want to view other metrics (precision, recall, f1) since accuracy may not be a reliable metric to use"
   ]
  },
  {
   "cell_type": "code",
   "execution_count": 35,
   "metadata": {
    "scrolled": true
   },
   "outputs": [
    {
     "name": "stdout",
     "output_type": "stream",
     "text": [
      "              precision    recall  f1-score   support\n",
      "\n",
      "           0       0.89      1.00      0.94     10965\n",
      "           1       0.00      0.00      0.00      1392\n",
      "\n",
      "    accuracy                           0.89     12357\n",
      "   macro avg       0.44      0.50      0.47     12357\n",
      "weighted avg       0.79      0.89      0.83     12357\n",
      "\n"
     ]
    }
   ],
   "source": [
    "print(classification_report(y_test, lgr_base_test_predictions))"
   ]
  },
  {
   "cell_type": "markdown",
   "metadata": {},
   "source": [
    "**Observations:**\n",
    "- Precision, recall, f1 are all 0 for the minority class"
   ]
  },
  {
   "cell_type": "code",
   "execution_count": 36,
   "metadata": {},
   "outputs": [],
   "source": [
    "# append results into respective list\n",
    "model_list.append('Logistic Regression')\n",
    "time_list.append(lgr_fit_time)\n",
    "train_accuracy_list.append(lgr_base_train_accuracy)\n",
    "test_accuracy_list.append(lgr_base_test_accuracy)"
   ]
  },
  {
   "cell_type": "markdown",
   "metadata": {},
   "source": [
    "### Problem 10: Model Comparisons\n",
    "\n",
    "Now, we aim to compare the performance of the Logistic Regression model to our KNN algorithm, Decision Tree, and SVM models.  Using the default settings for each of the models, fit and score each.  Also, be sure to compare the fit time of each of the models.  Present your findings in a `DataFrame` similar to that below:\n",
    "\n",
    "| Model | Train Time | Train Accuracy | Test Accuracy |\n",
    "| ----- | ---------- | -------------  | -----------   |\n",
    "|     |    |.     |.     |"
   ]
  },
  {
   "cell_type": "code",
   "execution_count": 37,
   "metadata": {},
   "outputs": [],
   "source": [
    "warnings.filterwarnings('ignore')"
   ]
  },
  {
   "cell_type": "markdown",
   "metadata": {},
   "source": [
    "Now we will build the following models and compare performances among the models:\n",
    "- KNN\n",
    "- Decision Tree\n",
    "- SVM"
   ]
  },
  {
   "cell_type": "markdown",
   "metadata": {},
   "source": [
    "### 10a. KNN Base Model"
   ]
  },
  {
   "cell_type": "code",
   "execution_count": 38,
   "metadata": {},
   "outputs": [
    {
     "name": "stdout",
     "output_type": "stream",
     "text": [
      "Time taken to train KNeighbors model: 0.0047 seconds\n"
     ]
    }
   ],
   "source": [
    "# Initialize KNeighborsClassifier object with default parameters\n",
    "knn_base_model = KNeighborsClassifier()\n",
    "\n",
    "# Want to compute fit time of model\n",
    "# Measuring starting time and ending time, then taking the difference to obtain fit time\n",
    "start_time = time.time()\n",
    "\n",
    "# Fitting model\n",
    "knn_base_model.fit(X_train, y_train)\n",
    "\n",
    "end_time = time.time()\n",
    "\n",
    "# Calculating fit time of model\n",
    "knn_fit_time = end_time - start_time\n",
    "\n",
    "print(f\"Time taken to train KNeighbors model: {knn_fit_time:.4f} seconds\")"
   ]
  },
  {
   "cell_type": "markdown",
   "metadata": {},
   "source": [
    " **Computing Train and Test accuracy:**"
   ]
  },
  {
   "cell_type": "code",
   "execution_count": 39,
   "metadata": {
    "scrolled": true
   },
   "outputs": [
    {
     "name": "stdout",
     "output_type": "stream",
     "text": [
      "Training accuracy: 0.8895\n",
      "Testing accuracy: 0.8774\n"
     ]
    }
   ],
   "source": [
    "# Predictions using train set\n",
    "knn_base_train_predictions = knn_base_model.predict(X_train)\n",
    "\n",
    "# Predictions using test set\n",
    "knn_base_test_predictions = knn_base_model.predict(X_test)\n",
    "\n",
    "# Compute accuracy score for Train and Test\n",
    "knn_base_train_accuracy = accuracy_score(y_train, knn_base_train_predictions)\n",
    "knn_base_test_accuracy = accuracy_score(y_test, knn_base_test_predictions)\n",
    "\n",
    "print(f\"Training accuracy: {knn_base_train_accuracy:.4f}\")\n",
    "print(f\"Testing accuracy: {knn_base_test_accuracy:.4f}\")"
   ]
  },
  {
   "cell_type": "markdown",
   "metadata": {},
   "source": [
    "**Viewing classification report:**"
   ]
  },
  {
   "cell_type": "code",
   "execution_count": 40,
   "metadata": {
    "scrolled": true
   },
   "outputs": [
    {
     "name": "stdout",
     "output_type": "stream",
     "text": [
      "              precision    recall  f1-score   support\n",
      "\n",
      "           0       0.89      0.98      0.93     10965\n",
      "           1       0.32      0.08      0.12      1392\n",
      "\n",
      "    accuracy                           0.88     12357\n",
      "   macro avg       0.60      0.53      0.53     12357\n",
      "weighted avg       0.83      0.88      0.84     12357\n",
      "\n"
     ]
    }
   ],
   "source": [
    "print(classification_report(y_test, knn_base_test_predictions))"
   ]
  },
  {
   "cell_type": "markdown",
   "metadata": {},
   "source": [
    "**Observations:**\n",
    "- Slight increase across all metrics"
   ]
  },
  {
   "cell_type": "code",
   "execution_count": 41,
   "metadata": {},
   "outputs": [],
   "source": [
    "# append results into respective list\n",
    "model_list.append('KNN')\n",
    "time_list.append(knn_fit_time)\n",
    "train_accuracy_list.append(knn_base_train_accuracy)\n",
    "test_accuracy_list.append(knn_base_test_accuracy)"
   ]
  },
  {
   "cell_type": "markdown",
   "metadata": {},
   "source": [
    "### 10b. Decision Tree Base Model"
   ]
  },
  {
   "cell_type": "code",
   "execution_count": 42,
   "metadata": {
    "scrolled": true
   },
   "outputs": [
    {
     "name": "stdout",
     "output_type": "stream",
     "text": [
      "Time taken to train Decision_Tree model: 0.0954 seconds\n"
     ]
    }
   ],
   "source": [
    "# Initialize KNeighborsClassifier object with default parameters\n",
    "decision_tree_base_model = DecisionTreeClassifier()\n",
    "\n",
    "# Want to compute fit time of model\n",
    "# Measuring starting time and ending time, then taking the difference to obtain fit time\n",
    "start_time = time.time()\n",
    "\n",
    "# Fitting model\n",
    "decision_tree_base_model.fit(X_train, y_train)\n",
    "\n",
    "end_time = time.time()\n",
    "\n",
    "# Calculating fit time of model\n",
    "decision_tree_fit_time = end_time - start_time\n",
    "\n",
    "print(f\"Time taken to train Decision_Tree model: {decision_tree_fit_time:.4f} seconds\")"
   ]
  },
  {
   "cell_type": "markdown",
   "metadata": {},
   "source": [
    " **Computing Train and Test accuracy:**"
   ]
  },
  {
   "cell_type": "code",
   "execution_count": 43,
   "metadata": {
    "scrolled": true
   },
   "outputs": [
    {
     "name": "stdout",
     "output_type": "stream",
     "text": [
      "Training accuracy: 0.9188\n",
      "Testing accuracy: 0.8650\n"
     ]
    }
   ],
   "source": [
    "# Predictions using train set\n",
    "decision_tree_base_train_predictions = decision_tree_base_model.predict(X_train)\n",
    "\n",
    "# Predictions using test set\n",
    "decision_tree_base_test_predictions = decision_tree_base_model.predict(X_test)\n",
    "\n",
    "# Compute accuracy score for Train and Test\n",
    "decision_tree_base_train_accuracy = accuracy_score(y_train, decision_tree_base_train_predictions)\n",
    "decision_tree_base_test_accuracy = accuracy_score(y_test, decision_tree_base_test_predictions)\n",
    "\n",
    "print(f\"Training accuracy: {decision_tree_base_train_accuracy:.4f}\")\n",
    "print(f\"Testing accuracy: {decision_tree_base_test_accuracy:.4f}\")"
   ]
  },
  {
   "cell_type": "markdown",
   "metadata": {},
   "source": [
    "**Viewing classification report:**"
   ]
  },
  {
   "cell_type": "code",
   "execution_count": 44,
   "metadata": {
    "scrolled": true
   },
   "outputs": [
    {
     "name": "stdout",
     "output_type": "stream",
     "text": [
      "              precision    recall  f1-score   support\n",
      "\n",
      "           0       0.89      0.96      0.93     10965\n",
      "           1       0.24      0.09      0.13      1392\n",
      "\n",
      "    accuracy                           0.87     12357\n",
      "   macro avg       0.57      0.53      0.53     12357\n",
      "weighted avg       0.82      0.87      0.84     12357\n",
      "\n"
     ]
    }
   ],
   "source": [
    "print(classification_report(y_test, decision_tree_base_test_predictions))"
   ]
  },
  {
   "cell_type": "markdown",
   "metadata": {},
   "source": [
    "**Observations:**\n",
    "- Metric scores comparable to KNN model"
   ]
  },
  {
   "cell_type": "code",
   "execution_count": 45,
   "metadata": {},
   "outputs": [],
   "source": [
    "# append results into respective list\n",
    "model_list.append('Decision Tree')\n",
    "time_list.append(decision_tree_fit_time)\n",
    "train_accuracy_list.append(decision_tree_base_train_accuracy)\n",
    "test_accuracy_list.append(decision_tree_base_test_accuracy)"
   ]
  },
  {
   "cell_type": "markdown",
   "metadata": {},
   "source": [
    "### 10c. SVM Base Model"
   ]
  },
  {
   "cell_type": "code",
   "execution_count": 46,
   "metadata": {},
   "outputs": [
    {
     "name": "stdout",
     "output_type": "stream",
     "text": [
      "Time taken to train SVM model: 13.6463 seconds\n"
     ]
    }
   ],
   "source": [
    "# Initialize SVM object with default parameters\n",
    "svm_base_model = SVC()\n",
    "\n",
    "# Want to compute fit time of model\n",
    "# Measuring starting time and ending time, then taking the difference to obtain fit time\n",
    "start_time = time.time()\n",
    "\n",
    "# Fitting model\n",
    "svm_base_model.fit(X_train, y_train)\n",
    "\n",
    "end_time = time.time()\n",
    "\n",
    "# Calculating fit time of model\n",
    "svm_fit_time = end_time - start_time\n",
    "\n",
    "print(f\"Time taken to train SVM model: {svm_fit_time:.4f} seconds\")"
   ]
  },
  {
   "cell_type": "markdown",
   "metadata": {},
   "source": [
    "**Computing Train and Test accuracy:**"
   ]
  },
  {
   "cell_type": "code",
   "execution_count": 47,
   "metadata": {
    "scrolled": true
   },
   "outputs": [
    {
     "name": "stdout",
     "output_type": "stream",
     "text": [
      "Training accuracy: 0.8873\n",
      "Testing accuracy: 0.8874\n"
     ]
    }
   ],
   "source": [
    "# Predictions using train set\n",
    "svm_base_train_predictions = svm_base_model.predict(X_train)\n",
    "\n",
    "# Predictions using test set\n",
    "svm_base_test_predictions = svm_base_model.predict(X_test)\n",
    "\n",
    "# Compute accuracy score for Train and Test\n",
    "svm_base_train_accuracy = accuracy_score(y_train, svm_base_train_predictions)\n",
    "svm_base_test_accuracy = accuracy_score(y_test, svm_base_test_predictions)\n",
    "\n",
    "print(f\"Training accuracy: {svm_base_train_accuracy:.4f}\")\n",
    "print(f\"Testing accuracy: {svm_base_test_accuracy:.4f}\")"
   ]
  },
  {
   "cell_type": "markdown",
   "metadata": {},
   "source": [
    "**Viewing classification report:**"
   ]
  },
  {
   "cell_type": "code",
   "execution_count": 48,
   "metadata": {
    "scrolled": false
   },
   "outputs": [
    {
     "name": "stdout",
     "output_type": "stream",
     "text": [
      "              precision    recall  f1-score   support\n",
      "\n",
      "           0       0.89      1.00      0.94     10965\n",
      "           1       0.00      0.00      0.00      1392\n",
      "\n",
      "    accuracy                           0.89     12357\n",
      "   macro avg       0.44      0.50      0.47     12357\n",
      "weighted avg       0.79      0.89      0.83     12357\n",
      "\n"
     ]
    }
   ],
   "source": [
    "print(classification_report(y_test, svm_base_test_predictions))"
   ]
  },
  {
   "cell_type": "markdown",
   "metadata": {},
   "source": [
    "**Observations:**\n",
    "- Precision, recall and f1 are all 0 for the minority class (1)"
   ]
  },
  {
   "cell_type": "code",
   "execution_count": 49,
   "metadata": {},
   "outputs": [],
   "source": [
    "# append results into respective list\n",
    "model_list.append('SVM')\n",
    "time_list.append(svm_fit_time)\n",
    "train_accuracy_list.append(svm_base_train_accuracy)\n",
    "test_accuracy_list.append(svm_base_test_accuracy)"
   ]
  },
  {
   "cell_type": "markdown",
   "metadata": {},
   "source": [
    "### Summarizing Performance of Models in DataFrame"
   ]
  },
  {
   "cell_type": "code",
   "execution_count": 50,
   "metadata": {
    "scrolled": true
   },
   "outputs": [
    {
     "data": {
      "text/html": [
       "<div>\n",
       "<style scoped>\n",
       "    .dataframe tbody tr th:only-of-type {\n",
       "        vertical-align: middle;\n",
       "    }\n",
       "\n",
       "    .dataframe tbody tr th {\n",
       "        vertical-align: top;\n",
       "    }\n",
       "\n",
       "    .dataframe thead th {\n",
       "        text-align: right;\n",
       "    }\n",
       "</style>\n",
       "<table border=\"1\" class=\"dataframe\">\n",
       "  <thead>\n",
       "    <tr style=\"text-align: right;\">\n",
       "      <th></th>\n",
       "      <th>Model</th>\n",
       "      <th>Train Time (seconds)</th>\n",
       "      <th>Train Accuracy</th>\n",
       "      <th>Test Accuracy</th>\n",
       "    </tr>\n",
       "  </thead>\n",
       "  <tbody>\n",
       "    <tr>\n",
       "      <th>0</th>\n",
       "      <td>Logistic Regression</td>\n",
       "      <td>0.593014</td>\n",
       "      <td>0.887343</td>\n",
       "      <td>0.887351</td>\n",
       "    </tr>\n",
       "    <tr>\n",
       "      <th>1</th>\n",
       "      <td>KNN</td>\n",
       "      <td>0.004687</td>\n",
       "      <td>0.889494</td>\n",
       "      <td>0.877397</td>\n",
       "    </tr>\n",
       "    <tr>\n",
       "      <th>2</th>\n",
       "      <td>Decision Tree</td>\n",
       "      <td>0.095376</td>\n",
       "      <td>0.918837</td>\n",
       "      <td>0.865016</td>\n",
       "    </tr>\n",
       "    <tr>\n",
       "      <th>3</th>\n",
       "      <td>SVM</td>\n",
       "      <td>13.646268</td>\n",
       "      <td>0.887343</td>\n",
       "      <td>0.887351</td>\n",
       "    </tr>\n",
       "  </tbody>\n",
       "</table>\n",
       "</div>"
      ],
      "text/plain": [
       "                 Model  Train Time (seconds)  Train Accuracy  Test Accuracy\n",
       "0  Logistic Regression              0.593014        0.887343       0.887351\n",
       "1                  KNN              0.004687        0.889494       0.877397\n",
       "2        Decision Tree              0.095376        0.918837       0.865016\n",
       "3                  SVM             13.646268        0.887343       0.887351"
      ]
     },
     "execution_count": 50,
     "metadata": {},
     "output_type": "execute_result"
    }
   ],
   "source": [
    "base_model_results_df = pd.DataFrame({'Model': model_list, 'Train Time (seconds)': time_list, 'Train Accuracy' : train_accuracy_list, 'Test Accuracy' : test_accuracy_list})\n",
    "base_model_results_df"
   ]
  },
  {
   "cell_type": "markdown",
   "metadata": {},
   "source": [
    "**Observations:**\n",
    "- KNN has the fastest train time.\n",
    "- While SVM arrives at similar accuracy, the training time is much higher compared to the other models.\n",
    "- Decision Tree has the highest training accuracy but has noticable drop in testing accuracy (possibly due to overfitting)"
   ]
  },
  {
   "cell_type": "markdown",
   "metadata": {},
   "source": [
    "### Problem 11: Improving the Model\n",
    "\n",
    "Now that we have some basic models on the board, we want to try to improve these.  Below, we list a few things to explore in this pursuit.\n",
    "\n",
    "- More feature engineering and exploration.  For example, should we keep the gender feature?  Why or why not?\n",
    "- Hyperparameter tuning and grid search.  All of our models have additional hyperparameters to tune and explore.  For example the number of neighbors in KNN or the maximum depth of a Decision Tree.  \n",
    "- Adjust your performance metric"
   ]
  },
  {
   "cell_type": "markdown",
   "metadata": {},
   "source": [
    "### 11a. Further Data Exploration and Preprocessing"
   ]
  },
  {
   "cell_type": "markdown",
   "metadata": {},
   "source": [
    "In this section, we will be using the complete dataset instead of just bank client features. We will perform data exploration and decide which features we can omit."
   ]
  },
  {
   "cell_type": "code",
   "execution_count": 51,
   "metadata": {},
   "outputs": [
    {
     "name": "stdout",
     "output_type": "stream",
     "text": [
      "Feature: age\n",
      "    count percentage\n",
      "31   1947       4.7%\n",
      "32   1846       4.5%\n",
      "33   1833       4.5%\n",
      "36   1780       4.3%\n",
      "35   1759       4.3%\n",
      "..    ...        ...\n",
      "89      2       0.0%\n",
      "91      2       0.0%\n",
      "94      1       0.0%\n",
      "87      1       0.0%\n",
      "95      1       0.0%\n",
      "\n",
      "[78 rows x 2 columns] \n",
      "\n",
      "\n",
      "Feature: job\n",
      "               count percentage\n",
      "admin.         10422      25.3%\n",
      "blue-collar     9254      22.5%\n",
      "technician      6743      16.4%\n",
      "services        3969       9.6%\n",
      "management      2924       7.1%\n",
      "retired         1720       4.2%\n",
      "entrepreneur    1456       3.5%\n",
      "self-employed   1421       3.5%\n",
      "housemaid       1060       2.6%\n",
      "unemployed      1014       2.5%\n",
      "student          875       2.1%\n",
      "unknown          330       0.8% \n",
      "\n",
      "\n",
      "Feature: marital\n",
      "          count percentage\n",
      "married   24928      60.5%\n",
      "single    11568      28.1%\n",
      "divorced   4612      11.2%\n",
      "unknown      80       0.2% \n",
      "\n",
      "\n",
      "Feature: education\n",
      "                     count percentage\n",
      "university.degree    12168      29.5%\n",
      "high.school           9515      23.1%\n",
      "basic.9y              6045      14.7%\n",
      "professional.course   5243      12.7%\n",
      "basic.4y              4176      10.1%\n",
      "basic.6y              2292       5.6%\n",
      "unknown               1731       4.2%\n",
      "illiterate              18       0.0% \n",
      "\n",
      "\n",
      "Feature: default\n",
      "         count percentage\n",
      "no       32588      79.1%\n",
      "unknown   8597      20.9%\n",
      "yes          3       0.0% \n",
      "\n",
      "\n",
      "Feature: housing\n",
      "         count percentage\n",
      "yes      21576      52.4%\n",
      "no       18622      45.2%\n",
      "unknown    990       2.4% \n",
      "\n",
      "\n",
      "Feature: loan\n",
      "         count percentage\n",
      "no       33950      82.4%\n",
      "yes       6248      15.2%\n",
      "unknown    990       2.4% \n",
      "\n",
      "\n",
      "Feature: contact\n",
      "           count percentage\n",
      "cellular   26144      63.5%\n",
      "telephone  15044      36.5% \n",
      "\n",
      "\n",
      "Feature: month\n",
      "     count percentage\n",
      "may  13769      33.4%\n",
      "jul   7174      17.4%\n",
      "aug   6178      15.0%\n",
      "jun   5318      12.9%\n",
      "nov   4101      10.0%\n",
      "apr   2632       6.4%\n",
      "oct    718       1.7%\n",
      "sep    570       1.4%\n",
      "mar    546       1.3%\n",
      "dec    182       0.4% \n",
      "\n",
      "\n",
      "Feature: day_of_week\n",
      "     count percentage\n",
      "thu   8623      20.9%\n",
      "mon   8514      20.7%\n",
      "wed   8134      19.7%\n",
      "tue   8090      19.6%\n",
      "fri   7827      19.0% \n",
      "\n",
      "\n",
      "Feature: duration\n",
      "      count percentage\n",
      "90      170       0.4%\n",
      "85      170       0.4%\n",
      "136     168       0.4%\n",
      "73      167       0.4%\n",
      "124     164       0.4%\n",
      "...     ...        ...\n",
      "1569      1       0.0%\n",
      "1053      1       0.0%\n",
      "1263      1       0.0%\n",
      "1169      1       0.0%\n",
      "1868      1       0.0%\n",
      "\n",
      "[1544 rows x 2 columns] \n",
      "\n",
      "\n",
      "Feature: campaign\n",
      "    count percentage\n",
      "1   17642      42.8%\n",
      "2   10570      25.7%\n",
      "3    5341      13.0%\n",
      "4    2651       6.4%\n",
      "5    1599       3.9%\n",
      "6     979       2.4%\n",
      "7     629       1.5%\n",
      "8     400       1.0%\n",
      "9     283       0.7%\n",
      "10    225       0.5%\n",
      "11    177       0.4%\n",
      "12    125       0.3%\n",
      "13     92       0.2%\n",
      "14     69       0.2%\n",
      "17     58       0.1%\n",
      "16     51       0.1%\n",
      "15     51       0.1%\n",
      "18     33       0.1%\n",
      "20     30       0.1%\n",
      "19     26       0.1%\n",
      "21     24       0.1%\n",
      "22     17       0.0%\n",
      "23     16       0.0%\n",
      "24     15       0.0%\n",
      "27     11       0.0%\n",
      "29     10       0.0%\n",
      "28      8       0.0%\n",
      "26      8       0.0%\n",
      "25      8       0.0%\n",
      "31      7       0.0%\n",
      "30      7       0.0%\n",
      "35      5       0.0%\n",
      "32      4       0.0%\n",
      "33      4       0.0%\n",
      "34      3       0.0%\n",
      "42      2       0.0%\n",
      "40      2       0.0%\n",
      "43      2       0.0%\n",
      "56      1       0.0%\n",
      "39      1       0.0%\n",
      "41      1       0.0%\n",
      "37      1       0.0% \n",
      "\n",
      "\n",
      "Feature: pdays\n",
      "     count percentage\n",
      "999  39673      96.3%\n",
      "3      439       1.1%\n",
      "6      412       1.0%\n",
      "4      118       0.3%\n",
      "9       64       0.2%\n",
      "2       61       0.1%\n",
      "7       60       0.1%\n",
      "12      58       0.1%\n",
      "10      52       0.1%\n",
      "5       46       0.1%\n",
      "13      36       0.1%\n",
      "11      28       0.1%\n",
      "1       26       0.1%\n",
      "15      24       0.1%\n",
      "14      20       0.0%\n",
      "8       18       0.0%\n",
      "0       15       0.0%\n",
      "16      11       0.0%\n",
      "17       8       0.0%\n",
      "18       7       0.0%\n",
      "22       3       0.0%\n",
      "19       3       0.0%\n",
      "21       2       0.0%\n",
      "25       1       0.0%\n",
      "26       1       0.0%\n",
      "27       1       0.0%\n",
      "20       1       0.0% \n",
      "\n",
      "\n",
      "Feature: previous\n",
      "   count percentage\n",
      "0  35563      86.3%\n",
      "1   4561      11.1%\n",
      "2    754       1.8%\n",
      "3    216       0.5%\n",
      "4     70       0.2%\n",
      "5     18       0.0%\n",
      "6      5       0.0%\n",
      "7      1       0.0% \n",
      "\n",
      "\n",
      "Feature: poutcome\n",
      "             count percentage\n",
      "nonexistent  35563      86.3%\n",
      "failure       4252      10.3%\n",
      "success       1373       3.3% \n",
      "\n",
      "\n",
      "Feature: emp.var.rate\n",
      "      count percentage\n",
      " 1.4  16234      39.4%\n",
      "-1.8   9184      22.3%\n",
      " 1.1   7763      18.8%\n",
      "-0.1   3683       8.9%\n",
      "-2.9   1663       4.0%\n",
      "-3.4   1071       2.6%\n",
      "-1.7    773       1.9%\n",
      "-1.1    635       1.5%\n",
      "-3.0    172       0.4%\n",
      "-0.2     10       0.0% \n",
      "\n",
      "\n",
      "Feature: cons.price.idx\n",
      "        count percentage\n",
      "93.994   7763      18.8%\n",
      "93.918   6685      16.2%\n",
      "92.893   5794      14.1%\n",
      "93.444   5175      12.6%\n",
      "94.465   4374      10.6%\n",
      "93.200   3616       8.8%\n",
      "93.075   2458       6.0%\n",
      "92.201    770       1.9%\n",
      "92.963    715       1.7%\n",
      "92.431    447       1.1%\n",
      "92.649    357       0.9%\n",
      "94.215    311       0.8%\n",
      "94.199    303       0.7%\n",
      "92.843    282       0.7%\n",
      "92.379    267       0.6%\n",
      "93.369    264       0.6%\n",
      "94.027    233       0.6%\n",
      "94.055    229       0.6%\n",
      "93.876    212       0.5%\n",
      "94.601    204       0.5%\n",
      "92.469    178       0.4%\n",
      "93.749    174       0.4%\n",
      "92.713    172       0.4%\n",
      "94.767    128       0.3%\n",
      "93.798     67       0.2%\n",
      "92.756     10       0.0% \n",
      "\n",
      "\n",
      "Feature: cons.conf.idx\n",
      "       count percentage\n",
      "-36.4   7763      18.8%\n",
      "-42.7   6685      16.2%\n",
      "-46.2   5794      14.1%\n",
      "-36.1   5175      12.6%\n",
      "-41.8   4374      10.6%\n",
      "-42.0   3616       8.8%\n",
      "-47.1   2458       6.0%\n",
      "-31.4    770       1.9%\n",
      "-40.8    715       1.7%\n",
      "-26.9    447       1.1%\n",
      "-30.1    357       0.9%\n",
      "-40.3    311       0.8%\n",
      "-37.5    303       0.7%\n",
      "-50.0    282       0.7%\n",
      "-29.8    267       0.6%\n",
      "-34.8    264       0.6%\n",
      "-38.3    233       0.6%\n",
      "-39.8    229       0.6%\n",
      "-40.0    212       0.5%\n",
      "-49.5    204       0.5%\n",
      "-33.6    178       0.4%\n",
      "-34.6    174       0.4%\n",
      "-33.0    172       0.4%\n",
      "-50.8    128       0.3%\n",
      "-40.4     67       0.2%\n",
      "-45.9     10       0.0% \n",
      "\n",
      "\n",
      "Feature: euribor3m\n",
      "       count percentage\n",
      "4.857   2868       7.0%\n",
      "4.962   2613       6.3%\n",
      "4.963   2487       6.0%\n",
      "4.961   1902       4.6%\n",
      "4.856   1210       2.9%\n",
      "...      ...        ...\n",
      "3.853      1       0.0%\n",
      "3.901      1       0.0%\n",
      "0.969      1       0.0%\n",
      "0.956      1       0.0%\n",
      "3.669      1       0.0%\n",
      "\n",
      "[316 rows x 2 columns] \n",
      "\n",
      "\n",
      "Feature: nr.employed\n",
      "        count percentage\n",
      "5228.1  16234      39.4%\n",
      "5099.1   8534      20.7%\n",
      "5191.0   7763      18.8%\n",
      "5195.8   3683       8.9%\n",
      "5076.2   1663       4.0%\n",
      "5017.5   1071       2.6%\n",
      "4991.6    773       1.9%\n",
      "5008.7    650       1.6%\n",
      "4963.6    635       1.5%\n",
      "5023.5    172       0.4%\n",
      "5176.3     10       0.0% \n",
      "\n",
      "\n",
      "Feature: y\n",
      "   count percentage\n",
      "0  36548      88.7%\n",
      "1   4640      11.3% \n",
      "\n",
      "\n"
     ]
    }
   ],
   "source": [
    "# using for each loop to display value counts for each class per feature\n",
    "for col in df.columns:\n",
    "    counts = df[col].value_counts()\n",
    "    perc = (df[col].value_counts(normalize=True) * 100).round(1).astype(str) + '%'\n",
    "    print('Feature: ' + col)\n",
    "    print(pd.DataFrame({'count': counts, 'percentage': perc}), '\\n\\n')"
   ]
  },
  {
   "cell_type": "markdown",
   "metadata": {},
   "source": [
    "**Observations:**\n",
    "- I do not see any gender column in the dataframe so am unable to answer the first question. If there was a gender column, it would be important to analyze the correlation between gender and target variable. We can then decide if the feature should be kept depending the strength of the correlation.\n",
    "- Features 16 - 20 are social and economic attributes. While these attributes are not directly tied to the client, these attributes provide valuable insights into the economic environment that can influence a client's decision to subscribe to a term deposit. Therefore, these features will be kept.\n",
    "- for the feature **'pdays'**, we can observe that a majority of the clients (96.3%) were not previously contacted. Due to the significant imbalance, I have opted to exclude this feature.\n"
   ]
  },
  {
   "cell_type": "markdown",
   "metadata": {},
   "source": [
    "**Important Note:**\n",
    "- According to the Data Description above, **'duration'** feature should be excluded if the intention is to build a realistic predictive model. Therefore, will be dropping **'duration'** feature."
   ]
  },
  {
   "cell_type": "code",
   "execution_count": 52,
   "metadata": {},
   "outputs": [],
   "source": [
    "# Dropping 'pdays', 'duration'\n",
    "# Dropping features mentioned about\n",
    "df = df.drop(columns = ['pdays', 'duration'], axis = 1)"
   ]
  },
  {
   "cell_type": "code",
   "execution_count": 53,
   "metadata": {},
   "outputs": [
    {
     "name": "stdout",
     "output_type": "stream",
     "text": [
      "<class 'pandas.core.frame.DataFrame'>\n",
      "RangeIndex: 41188 entries, 0 to 41187\n",
      "Data columns (total 19 columns):\n",
      " #   Column          Non-Null Count  Dtype  \n",
      "---  ------          --------------  -----  \n",
      " 0   age             41188 non-null  int64  \n",
      " 1   job             41188 non-null  object \n",
      " 2   marital         41188 non-null  object \n",
      " 3   education       41188 non-null  object \n",
      " 4   default         41188 non-null  object \n",
      " 5   housing         41188 non-null  object \n",
      " 6   loan            41188 non-null  object \n",
      " 7   contact         41188 non-null  object \n",
      " 8   month           41188 non-null  object \n",
      " 9   day_of_week     41188 non-null  object \n",
      " 10  campaign        41188 non-null  int64  \n",
      " 11  previous        41188 non-null  int64  \n",
      " 12  poutcome        41188 non-null  object \n",
      " 13  emp.var.rate    41188 non-null  float64\n",
      " 14  cons.price.idx  41188 non-null  float64\n",
      " 15  cons.conf.idx   41188 non-null  float64\n",
      " 16  euribor3m       41188 non-null  float64\n",
      " 17  nr.employed     41188 non-null  float64\n",
      " 18  y               41188 non-null  int64  \n",
      "dtypes: float64(5), int64(4), object(10)\n",
      "memory usage: 6.0+ MB\n"
     ]
    }
   ],
   "source": [
    "# Verifying the features above have been dropped\n",
    "df.info()"
   ]
  },
  {
   "cell_type": "markdown",
   "metadata": {},
   "source": [
    "**Visualizing several numerical features:**\n",
    "- emp.var.rate\n",
    "- cons.price.idx\n",
    "- cons.conf.idx \n",
    "- euribor3m\n",
    "- nr.employed"
   ]
  },
  {
   "cell_type": "code",
   "execution_count": 54,
   "metadata": {},
   "outputs": [
    {
     "data": {
      "image/png": "[encoded data removed]",
      "text/plain": [
       "<Figure size 1500x1000 with 5 Axes>"
      ]
     },
     "metadata": {},
     "output_type": "display_data"
    }
   ],
   "source": [
    "# Visualizing distributions using histograms\n",
    "numerical_features = ['emp.var.rate', 'cons.price.idx', 'cons.conf.idx', 'euribor3m', 'nr.employed']\n",
    "\n",
    "plt.figure(figsize=(15, 10))\n",
    "for i, feature in enumerate(numerical_features, 1):\n",
    "    # 3: specifies number of rows in grid\n",
    "    # 2: specifies number of columns in grid\n",
    "    # i: specifies position of subplot in grid\n",
    "    plt.subplot(3, 2, i)\n",
    "    sns.histplot(df[feature], kde=True)\n",
    "    plt.title(f'Distribution of {feature}')\n",
    "plt.tight_layout()\n",
    "plt.show()"
   ]
  },
  {
   "cell_type": "code",
   "execution_count": 55,
   "metadata": {},
   "outputs": [
    {
     "data": {
      "image/png": "[encoded data removed]",
      "text/plain": [
       "<Figure size 1500x1000 with 5 Axes>"
      ]
     },
     "metadata": {},
     "output_type": "display_data"
    }
   ],
   "source": [
    "# Visualizing spread and detect outliers using box plots\n",
    "# Box plots will help us identify outliers\n",
    "plt.figure(figsize=(15, 10))\n",
    "for i, feature in enumerate(numerical_features, 1):\n",
    "    # 3: specifies number of rows in grid\n",
    "    # 2: specifies number of columns in grid\n",
    "    # i: specifies position of subplot in grid\n",
    "    plt.subplot(3, 2, i)\n",
    "    sns.boxplot(x=df[feature])\n",
    "    plt.title(f'Box plot of {feature}')\n",
    "plt.tight_layout()\n",
    "plt.show()"
   ]
  },
  {
   "cell_type": "markdown",
   "metadata": {},
   "source": [
    "**Observations:**\n",
    "- Observe that only one plot contains outliers (cons.conf.idx)\n",
    "- We will remove the outlier in 'cons.conf.idx' "
   ]
  },
  {
   "cell_type": "markdown",
   "metadata": {},
   "source": [
    "#### Removing Outlier in 'cons.conf.idx'"
   ]
  },
  {
   "cell_type": "code",
   "execution_count": 56,
   "metadata": {},
   "outputs": [
    {
     "name": "stdout",
     "output_type": "stream",
     "text": [
      "Lower bound:  -52.150000000000006\n",
      "Upper bound:  -26.949999999999992\n"
     ]
    }
   ],
   "source": [
    "# Exploring lower bound and upper bound using Interquartile Range (IQR)   \n",
    "Q1 = df['cons.conf.idx'].quantile(0.25)\n",
    "Q3 = df['cons.conf.idx'].quantile(0.75)\n",
    "\n",
    "# Calculate IQR\n",
    "IQR = Q3 - Q1\n",
    "\n",
    "# Define the lower and upper bounds for outliers\n",
    "lower_bound_cons_conf_idx = Q1 - 1.5 * IQR\n",
    "upper_bound_cons_conf_idx = Q3 + 1.5 * IQR\n",
    "\n",
    "# Filter the DataFrame to retain only values within the lower and upper bounds\n",
    "print('Lower bound: ', lower_bound_cons_conf_idx)\n",
    "print('Upper bound: ', upper_bound_cons_conf_idx)"
   ]
  },
  {
   "cell_type": "code",
   "execution_count": 57,
   "metadata": {},
   "outputs": [],
   "source": [
    "# Remove upper bound outliers\n",
    "df = df[(df['cons.conf.idx'] < upper_bound_cons_conf_idx)];"
   ]
  },
  {
   "cell_type": "code",
   "execution_count": 58,
   "metadata": {
    "scrolled": false
   },
   "outputs": [
    {
     "data": {
      "image/png": "[encoded data removed]",
      "text/plain": [
       "<Figure size 1500x1000 with 5 Axes>"
      ]
     },
     "metadata": {},
     "output_type": "display_data"
    }
   ],
   "source": [
    "# Verifying that outlier has been removed\n",
    "plt.figure(figsize=(15, 10))\n",
    "for i, feature in enumerate(numerical_features, 1):\n",
    "    # 3: specifies number of rows in grid\n",
    "    # 2: specifies number of columns in grid\n",
    "    # i: specifies position of subplot in grid\n",
    "    plt.subplot(3, 2, i)\n",
    "    sns.boxplot(x=df[feature])\n",
    "    plt.title(f'Box plot of {feature}')\n",
    "plt.tight_layout()\n",
    "plt.show()"
   ]
  },
  {
   "cell_type": "markdown",
   "metadata": {},
   "source": [
    "#### Coverting Categorical Variable into Numerical Variables"
   ]
  },
  {
   "cell_type": "markdown",
   "metadata": {},
   "source": [
    "1. First converting categorical variables that have ordinal ranking"
   ]
  },
  {
   "cell_type": "code",
   "execution_count": 59,
   "metadata": {
    "scrolled": false
   },
   "outputs": [],
   "source": [
    "# Instantiate OrdinalEncoder\n",
    "ordinal_encoder = OrdinalEncoder(categories=[education_list], dtype=int)\n",
    "\n",
    "# Fit and transform education feature in original dataframe\n",
    "# OrdinalEncoder expects 2D array as input, need to add [[]] even when dealing with a single column\n",
    "df['education'] = ordinal_encoder.fit_transform(df[['education']])"
   ]
  },
  {
   "cell_type": "markdown",
   "metadata": {},
   "source": [
    "2. One hot encoding remainder categorical variables"
   ]
  },
  {
   "cell_type": "code",
   "execution_count": 60,
   "metadata": {},
   "outputs": [],
   "source": [
    "# extracting columns with object data type\n",
    "object_columns_complete = df.select_dtypes(include=['object'])"
   ]
  },
  {
   "cell_type": "code",
   "execution_count": 61,
   "metadata": {
    "scrolled": true
   },
   "outputs": [
    {
     "data": {
      "text/html": [
       "<div>\n",
       "<style scoped>\n",
       "    .dataframe tbody tr th:only-of-type {\n",
       "        vertical-align: middle;\n",
       "    }\n",
       "\n",
       "    .dataframe tbody tr th {\n",
       "        vertical-align: top;\n",
       "    }\n",
       "\n",
       "    .dataframe thead th {\n",
       "        text-align: right;\n",
       "    }\n",
       "</style>\n",
       "<table border=\"1\" class=\"dataframe\">\n",
       "  <thead>\n",
       "    <tr style=\"text-align: right;\">\n",
       "      <th></th>\n",
       "      <th>job</th>\n",
       "      <th>marital</th>\n",
       "      <th>default</th>\n",
       "      <th>housing</th>\n",
       "      <th>loan</th>\n",
       "      <th>contact</th>\n",
       "      <th>month</th>\n",
       "      <th>day_of_week</th>\n",
       "      <th>poutcome</th>\n",
       "    </tr>\n",
       "  </thead>\n",
       "  <tbody>\n",
       "    <tr>\n",
       "      <th>0</th>\n",
       "      <td>housemaid</td>\n",
       "      <td>married</td>\n",
       "      <td>no</td>\n",
       "      <td>no</td>\n",
       "      <td>no</td>\n",
       "      <td>telephone</td>\n",
       "      <td>may</td>\n",
       "      <td>mon</td>\n",
       "      <td>nonexistent</td>\n",
       "    </tr>\n",
       "    <tr>\n",
       "      <th>1</th>\n",
       "      <td>services</td>\n",
       "      <td>married</td>\n",
       "      <td>unknown</td>\n",
       "      <td>no</td>\n",
       "      <td>no</td>\n",
       "      <td>telephone</td>\n",
       "      <td>may</td>\n",
       "      <td>mon</td>\n",
       "      <td>nonexistent</td>\n",
       "    </tr>\n",
       "    <tr>\n",
       "      <th>2</th>\n",
       "      <td>services</td>\n",
       "      <td>married</td>\n",
       "      <td>no</td>\n",
       "      <td>yes</td>\n",
       "      <td>no</td>\n",
       "      <td>telephone</td>\n",
       "      <td>may</td>\n",
       "      <td>mon</td>\n",
       "      <td>nonexistent</td>\n",
       "    </tr>\n",
       "    <tr>\n",
       "      <th>3</th>\n",
       "      <td>admin.</td>\n",
       "      <td>married</td>\n",
       "      <td>no</td>\n",
       "      <td>no</td>\n",
       "      <td>no</td>\n",
       "      <td>telephone</td>\n",
       "      <td>may</td>\n",
       "      <td>mon</td>\n",
       "      <td>nonexistent</td>\n",
       "    </tr>\n",
       "    <tr>\n",
       "      <th>4</th>\n",
       "      <td>services</td>\n",
       "      <td>married</td>\n",
       "      <td>no</td>\n",
       "      <td>no</td>\n",
       "      <td>yes</td>\n",
       "      <td>telephone</td>\n",
       "      <td>may</td>\n",
       "      <td>mon</td>\n",
       "      <td>nonexistent</td>\n",
       "    </tr>\n",
       "    <tr>\n",
       "      <th>...</th>\n",
       "      <td>...</td>\n",
       "      <td>...</td>\n",
       "      <td>...</td>\n",
       "      <td>...</td>\n",
       "      <td>...</td>\n",
       "      <td>...</td>\n",
       "      <td>...</td>\n",
       "      <td>...</td>\n",
       "      <td>...</td>\n",
       "    </tr>\n",
       "    <tr>\n",
       "      <th>41183</th>\n",
       "      <td>retired</td>\n",
       "      <td>married</td>\n",
       "      <td>no</td>\n",
       "      <td>yes</td>\n",
       "      <td>no</td>\n",
       "      <td>cellular</td>\n",
       "      <td>nov</td>\n",
       "      <td>fri</td>\n",
       "      <td>nonexistent</td>\n",
       "    </tr>\n",
       "    <tr>\n",
       "      <th>41184</th>\n",
       "      <td>blue-collar</td>\n",
       "      <td>married</td>\n",
       "      <td>no</td>\n",
       "      <td>no</td>\n",
       "      <td>no</td>\n",
       "      <td>cellular</td>\n",
       "      <td>nov</td>\n",
       "      <td>fri</td>\n",
       "      <td>nonexistent</td>\n",
       "    </tr>\n",
       "    <tr>\n",
       "      <th>41185</th>\n",
       "      <td>retired</td>\n",
       "      <td>married</td>\n",
       "      <td>no</td>\n",
       "      <td>yes</td>\n",
       "      <td>no</td>\n",
       "      <td>cellular</td>\n",
       "      <td>nov</td>\n",
       "      <td>fri</td>\n",
       "      <td>nonexistent</td>\n",
       "    </tr>\n",
       "    <tr>\n",
       "      <th>41186</th>\n",
       "      <td>technician</td>\n",
       "      <td>married</td>\n",
       "      <td>no</td>\n",
       "      <td>no</td>\n",
       "      <td>no</td>\n",
       "      <td>cellular</td>\n",
       "      <td>nov</td>\n",
       "      <td>fri</td>\n",
       "      <td>nonexistent</td>\n",
       "    </tr>\n",
       "    <tr>\n",
       "      <th>41187</th>\n",
       "      <td>retired</td>\n",
       "      <td>married</td>\n",
       "      <td>no</td>\n",
       "      <td>yes</td>\n",
       "      <td>no</td>\n",
       "      <td>cellular</td>\n",
       "      <td>nov</td>\n",
       "      <td>fri</td>\n",
       "      <td>failure</td>\n",
       "    </tr>\n",
       "  </tbody>\n",
       "</table>\n",
       "<p>40741 rows × 9 columns</p>\n",
       "</div>"
      ],
      "text/plain": [
       "               job  marital  default housing loan    contact month  \\\n",
       "0        housemaid  married       no      no   no  telephone   may   \n",
       "1         services  married  unknown      no   no  telephone   may   \n",
       "2         services  married       no     yes   no  telephone   may   \n",
       "3           admin.  married       no      no   no  telephone   may   \n",
       "4         services  married       no      no  yes  telephone   may   \n",
       "...            ...      ...      ...     ...  ...        ...   ...   \n",
       "41183      retired  married       no     yes   no   cellular   nov   \n",
       "41184  blue-collar  married       no      no   no   cellular   nov   \n",
       "41185      retired  married       no     yes   no   cellular   nov   \n",
       "41186   technician  married       no      no   no   cellular   nov   \n",
       "41187      retired  married       no     yes   no   cellular   nov   \n",
       "\n",
       "      day_of_week     poutcome  \n",
       "0             mon  nonexistent  \n",
       "1             mon  nonexistent  \n",
       "2             mon  nonexistent  \n",
       "3             mon  nonexistent  \n",
       "4             mon  nonexistent  \n",
       "...           ...          ...  \n",
       "41183         fri  nonexistent  \n",
       "41184         fri  nonexistent  \n",
       "41185         fri  nonexistent  \n",
       "41186         fri  nonexistent  \n",
       "41187         fri      failure  \n",
       "\n",
       "[40741 rows x 9 columns]"
      ]
     },
     "execution_count": 61,
     "metadata": {},
     "output_type": "execute_result"
    }
   ],
   "source": [
    "object_columns_complete"
   ]
  },
  {
   "cell_type": "code",
   "execution_count": 62,
   "metadata": {},
   "outputs": [],
   "source": [
    "# One hot encoding using pd.get_dummies\n",
    "ohe_features_complete = ['job', 'marital', 'default', 'housing', 'loan', 'contact', 'month', 'day_of_week', 'poutcome']\n",
    "\n",
    "df = pd.get_dummies(df, columns=ohe_features_complete)"
   ]
  },
  {
   "cell_type": "code",
   "execution_count": 63,
   "metadata": {
    "scrolled": true
   },
   "outputs": [
    {
     "name": "stdout",
     "output_type": "stream",
     "text": [
      "<class 'pandas.core.frame.DataFrame'>\n",
      "Int64Index: 40741 entries, 0 to 41187\n",
      "Data columns (total 55 columns):\n",
      " #   Column                Non-Null Count  Dtype  \n",
      "---  ------                --------------  -----  \n",
      " 0   age                   40741 non-null  int64  \n",
      " 1   education             40741 non-null  int64  \n",
      " 2   campaign              40741 non-null  int64  \n",
      " 3   previous              40741 non-null  int64  \n",
      " 4   emp.var.rate          40741 non-null  float64\n",
      " 5   cons.price.idx        40741 non-null  float64\n",
      " 6   cons.conf.idx         40741 non-null  float64\n",
      " 7   euribor3m             40741 non-null  float64\n",
      " 8   nr.employed           40741 non-null  float64\n",
      " 9   y                     40741 non-null  int64  \n",
      " 10  job_admin.            40741 non-null  uint8  \n",
      " 11  job_blue-collar       40741 non-null  uint8  \n",
      " 12  job_entrepreneur      40741 non-null  uint8  \n",
      " 13  job_housemaid         40741 non-null  uint8  \n",
      " 14  job_management        40741 non-null  uint8  \n",
      " 15  job_retired           40741 non-null  uint8  \n",
      " 16  job_self-employed     40741 non-null  uint8  \n",
      " 17  job_services          40741 non-null  uint8  \n",
      " 18  job_student           40741 non-null  uint8  \n",
      " 19  job_technician        40741 non-null  uint8  \n",
      " 20  job_unemployed        40741 non-null  uint8  \n",
      " 21  job_unknown           40741 non-null  uint8  \n",
      " 22  marital_divorced      40741 non-null  uint8  \n",
      " 23  marital_married       40741 non-null  uint8  \n",
      " 24  marital_single        40741 non-null  uint8  \n",
      " 25  marital_unknown       40741 non-null  uint8  \n",
      " 26  default_no            40741 non-null  uint8  \n",
      " 27  default_unknown       40741 non-null  uint8  \n",
      " 28  default_yes           40741 non-null  uint8  \n",
      " 29  housing_no            40741 non-null  uint8  \n",
      " 30  housing_unknown       40741 non-null  uint8  \n",
      " 31  housing_yes           40741 non-null  uint8  \n",
      " 32  loan_no               40741 non-null  uint8  \n",
      " 33  loan_unknown          40741 non-null  uint8  \n",
      " 34  loan_yes              40741 non-null  uint8  \n",
      " 35  contact_cellular      40741 non-null  uint8  \n",
      " 36  contact_telephone     40741 non-null  uint8  \n",
      " 37  month_apr             40741 non-null  uint8  \n",
      " 38  month_aug             40741 non-null  uint8  \n",
      " 39  month_dec             40741 non-null  uint8  \n",
      " 40  month_jul             40741 non-null  uint8  \n",
      " 41  month_jun             40741 non-null  uint8  \n",
      " 42  month_mar             40741 non-null  uint8  \n",
      " 43  month_may             40741 non-null  uint8  \n",
      " 44  month_nov             40741 non-null  uint8  \n",
      " 45  month_oct             40741 non-null  uint8  \n",
      " 46  month_sep             40741 non-null  uint8  \n",
      " 47  day_of_week_fri       40741 non-null  uint8  \n",
      " 48  day_of_week_mon       40741 non-null  uint8  \n",
      " 49  day_of_week_thu       40741 non-null  uint8  \n",
      " 50  day_of_week_tue       40741 non-null  uint8  \n",
      " 51  day_of_week_wed       40741 non-null  uint8  \n",
      " 52  poutcome_failure      40741 non-null  uint8  \n",
      " 53  poutcome_nonexistent  40741 non-null  uint8  \n",
      " 54  poutcome_success      40741 non-null  uint8  \n",
      "dtypes: float64(5), int64(5), uint8(45)\n",
      "memory usage: 5.2 MB\n"
     ]
    }
   ],
   "source": [
    "df.info()"
   ]
  },
  {
   "cell_type": "code",
   "execution_count": 64,
   "metadata": {},
   "outputs": [],
   "source": [
    "# Drop duplicates\n",
    "df.drop_duplicates(inplace=True)"
   ]
  },
  {
   "cell_type": "markdown",
   "metadata": {},
   "source": [
    "Note: Preprocessing complete. Do not believe need any feature engineering required"
   ]
  },
  {
   "cell_type": "markdown",
   "metadata": {},
   "source": [
    "### 11b. Modeling with hyperparameter tuning and Grid Search"
   ]
  },
  {
   "cell_type": "markdown",
   "metadata": {},
   "source": [
    "In this section, we will improve the base models with hyperparameter tuning. More specifically, we will use GridSearch to search fo the best combination of hyperparameters. Additionally, we will adjust the performance metric used. In the base models, we used accuracy as the performance metric to evaluate. However, accuracy may not be a reliable metric because of the significant class imbalance (in the target variable). Instead, we should look to other metrics such as precision and recall. While both are important, I believe that recall is the more important metric to consider if the goal is the identify more clients who are likely to subscribe to a term deposit. For this reason, the following models will have 'scoring' parameter set to recall."
   ]
  },
  {
   "cell_type": "code",
   "execution_count": 65,
   "metadata": {},
   "outputs": [],
   "source": [
    "# re-assign y\n",
    "y = df['y']"
   ]
  },
  {
   "cell_type": "code",
   "execution_count": 66,
   "metadata": {},
   "outputs": [],
   "source": [
    "# drop target variable\n",
    "df = df.drop(columns = ['y'], axis = 1)"
   ]
  },
  {
   "cell_type": "code",
   "execution_count": 67,
   "metadata": {},
   "outputs": [],
   "source": [
    "# Create new Train and Test sets\n",
    "X_train_new, X_test_new, y_train_new, y_test_new = train_test_split(df, y, test_size = 0.3, stratify = y, random_state = 42)"
   ]
  },
  {
   "cell_type": "code",
   "execution_count": 68,
   "metadata": {},
   "outputs": [
    {
     "data": {
      "text/plain": [
       "0    0.886685\n",
       "1    0.113315\n",
       "Name: y, dtype: float64"
      ]
     },
     "execution_count": 68,
     "metadata": {},
     "output_type": "execute_result"
    }
   ],
   "source": [
    "# Distribution of y_train\n",
    "y_train_new.value_counts(normalize = True)"
   ]
  },
  {
   "cell_type": "code",
   "execution_count": 69,
   "metadata": {},
   "outputs": [
    {
     "data": {
      "text/plain": [
       "0    0.886636\n",
       "1    0.113364\n",
       "Name: y, dtype: float64"
      ]
     },
     "execution_count": 69,
     "metadata": {},
     "output_type": "execute_result"
    }
   ],
   "source": [
    "# Distribution of y_test\n",
    "y_test_new.value_counts(normalize = True)"
   ]
  },
  {
   "cell_type": "code",
   "execution_count": 70,
   "metadata": {},
   "outputs": [],
   "source": [
    "# Creating lists to store fit time, train accuracy and test accuracy\n",
    "# These will be used for reporting results in dataframe\n",
    "model_list_2 = []\n",
    "time_list_2 = []\n",
    "test_recall = []\n",
    "test_accuracy_2 = []"
   ]
  },
  {
   "cell_type": "markdown",
   "metadata": {},
   "source": [
    "### Improved Logistic Regression "
   ]
  },
  {
   "cell_type": "code",
   "execution_count": 71,
   "metadata": {},
   "outputs": [
    {
     "data": {
      "text/plain": [
       "Pipeline(steps=[('scale', StandardScaler()),\n",
       "                ('model',\n",
       "                 LogisticRegression(max_iter=10000, random_state=42,\n",
       "                                    solver='liblinear'))])"
      ]
     },
     "execution_count": 71,
     "metadata": {},
     "output_type": "execute_result"
    }
   ],
   "source": [
    "# Creating pipeline \n",
    "lr_pipe = Pipeline([\n",
    "        ('scale', StandardScaler()),\n",
    "        ('model', LogisticRegression(solver = 'liblinear', random_state=42, max_iter = 10000))\n",
    "    ])\n",
    "\n",
    "lr_pipe"
   ]
  },
  {
   "cell_type": "code",
   "execution_count": 72,
   "metadata": {},
   "outputs": [
    {
     "data": {
      "text/plain": [
       "GridSearchCV(estimator=Pipeline(steps=[('scale', StandardScaler()),\n",
       "                                       ('model',\n",
       "                                        LogisticRegression(max_iter=10000,\n",
       "                                                           random_state=42,\n",
       "                                                           solver='liblinear'))]),\n",
       "             param_grid={'model__C': [0.01, 0.1, 1, 10, 100, 1000],\n",
       "                         'model__penalty': ['l1', 'l2']},\n",
       "             scoring='recall')"
      ]
     },
     "execution_count": 72,
     "metadata": {},
     "output_type": "execute_result"
    }
   ],
   "source": [
    "# Define Parameter Grid\n",
    "# Experimented with C range - higher c value correlates to weaker regularization\n",
    "params = {'model__penalty':['l1','l2'], 'model__C': [0.01,0.1,1,10,100,1000]}\n",
    "lgr_grid = GridSearchCV(lr_pipe, param_grid=params, scoring = 'recall')\n",
    "lgr_grid.fit(X_train_new, y_train_new)"
   ]
  },
  {
   "cell_type": "code",
   "execution_count": 73,
   "metadata": {},
   "outputs": [
    {
     "name": "stdout",
     "output_type": "stream",
     "text": [
      "Best parameters found:  {'model__C': 10, 'model__penalty': 'l1'}\n",
      "Best cross-validation score:  0.21877022653721684\n"
     ]
    }
   ],
   "source": [
    "# To view the best parameters and score\n",
    "print(\"Best parameters found: \", lgr_grid.best_params_)\n",
    "print(\"Best cross-validation score: \", lgr_grid.best_score_)"
   ]
  },
  {
   "cell_type": "code",
   "execution_count": 74,
   "metadata": {},
   "outputs": [],
   "source": [
    "# Extract mean fit time from grid object\n",
    "# Computing mean fit time\n",
    "lgr_mean_fit_time = lgr_grid.cv_results_['mean_fit_time']\n",
    "lgr_final_time = np.mean(lgr_mean_fit_time)"
   ]
  },
  {
   "cell_type": "code",
   "execution_count": 75,
   "metadata": {},
   "outputs": [
    {
     "name": "stdout",
     "output_type": "stream",
     "text": [
      "Training accuracy: 0.8873\n",
      "Testing accuracy: 0.8874\n"
     ]
    }
   ],
   "source": [
    "# Predictions using train set\n",
    "lgr_grid_train_predictions = lgr_grid.predict(X_train_new)\n",
    "\n",
    "# Predictions using test set\n",
    "lgr_grid_test_predictions = lgr_grid.predict(X_test_new)\n",
    "\n",
    "# Compute accuracy score for Train and Test\n",
    "lgr_grid_train_accuracy = accuracy_score(y_train_new, lgr_grid_train_predictions)\n",
    "lgr_grid_test_accuracy = accuracy_score(y_test_new, lgr_grid_test_predictions)\n",
    "\n",
    "print(f\"Training accuracy: {lgr_base_train_accuracy:.4f}\")\n",
    "print(f\"Testing accuracy: {lgr_base_test_accuracy:.4f}\")"
   ]
  },
  {
   "cell_type": "markdown",
   "metadata": {},
   "source": [
    "**Observations:**\n",
    "- No improvements in the train and test accuracy\n",
    "- As mentioned before, accuracy is not a reliable metric to use\n",
    "- Will look at classificaiton report to view recall score of testing set"
   ]
  },
  {
   "cell_type": "code",
   "execution_count": 76,
   "metadata": {
    "scrolled": false
   },
   "outputs": [
    {
     "name": "stdout",
     "output_type": "stream",
     "text": [
      "              precision    recall  f1-score   support\n",
      "\n",
      "           0       0.91      0.99      0.95     10363\n",
      "           1       0.66      0.23      0.34      1325\n",
      "\n",
      "    accuracy                           0.90     11688\n",
      "   macro avg       0.79      0.61      0.64     11688\n",
      "weighted avg       0.88      0.90      0.88     11688\n",
      "\n"
     ]
    }
   ],
   "source": [
    "# Display classification report\n",
    "print(classification_report(y_test_new, lgr_grid_test_predictions))"
   ]
  },
  {
   "cell_type": "markdown",
   "metadata": {},
   "source": [
    "**Observations:**\n",
    "- Recall score for the minority class is relatively low at 0.23"
   ]
  },
  {
   "cell_type": "code",
   "execution_count": 77,
   "metadata": {},
   "outputs": [],
   "source": [
    "# appending results\n",
    "model_list_2.append('Logistic Regression')\n",
    "time_list_2.append(lgr_final_time)\n",
    "test_recall.append('0.23')\n",
    "test_accuracy_2.append(lgr_grid_test_accuracy)"
   ]
  },
  {
   "cell_type": "markdown",
   "metadata": {},
   "source": [
    "Before we move on to the next model, we can view **feature importance** by looking at each feature's coefficient"
   ]
  },
  {
   "cell_type": "code",
   "execution_count": 78,
   "metadata": {
    "scrolled": true
   },
   "outputs": [],
   "source": [
    "# Retrieve the best logistic regression model\n",
    "best_lr_model = lgr_grid.best_estimator_.named_steps['model']\n",
    "\n",
    "# Extract coefficients\n",
    "coefficients = best_lr_model.coef_[0]\n",
    "features = X_train_new.columns "
   ]
  },
  {
   "cell_type": "code",
   "execution_count": 79,
   "metadata": {},
   "outputs": [
    {
     "data": {
      "image/png": "[encoded data removed]",
      "text/plain": [
       "<Figure size 1000x800 with 1 Axes>"
      ]
     },
     "metadata": {},
     "output_type": "display_data"
    }
   ],
   "source": [
    "# Creating feature importance dataframe\n",
    "feature_importance_lr = pd.DataFrame({\n",
    "    'Coefficient': coefficients,\n",
    "    'Absolute_Coefficient': abs(coefficients)\n",
    "}, index=features).sort_values(by='Absolute_Coefficient', ascending=False)\n",
    "\n",
    "# Plotting the feature importance\n",
    "plt.figure(figsize=(10, 8))\n",
    "sns.barplot(x='Absolute_Coefficient', y=feature_importance_lr.index, data=feature_importance_lr)\n",
    "plt.xlabel('Coefficient Value')\n",
    "plt.ylabel('Features')\n",
    "plt.title('Logistic Regression Feature Importance')\n",
    "plt.show()"
   ]
  },
  {
   "cell_type": "code",
   "execution_count": 80,
   "metadata": {},
   "outputs": [
    {
     "data": {
      "text/html": [
       "<div>\n",
       "<style scoped>\n",
       "    .dataframe tbody tr th:only-of-type {\n",
       "        vertical-align: middle;\n",
       "    }\n",
       "\n",
       "    .dataframe tbody tr th {\n",
       "        vertical-align: top;\n",
       "    }\n",
       "\n",
       "    .dataframe thead th {\n",
       "        text-align: right;\n",
       "    }\n",
       "</style>\n",
       "<table border=\"1\" class=\"dataframe\">\n",
       "  <thead>\n",
       "    <tr style=\"text-align: right;\">\n",
       "      <th></th>\n",
       "      <th>Coefficient</th>\n",
       "      <th>Absolute_Coefficient</th>\n",
       "    </tr>\n",
       "  </thead>\n",
       "  <tbody>\n",
       "    <tr>\n",
       "      <th>emp.var.rate</th>\n",
       "      <td>-1.888455</td>\n",
       "      <td>1.888455</td>\n",
       "    </tr>\n",
       "    <tr>\n",
       "      <th>cons.price.idx</th>\n",
       "      <td>0.929644</td>\n",
       "      <td>0.929644</td>\n",
       "    </tr>\n",
       "    <tr>\n",
       "      <th>euribor3m</th>\n",
       "      <td>0.347712</td>\n",
       "      <td>0.347712</td>\n",
       "    </tr>\n",
       "    <tr>\n",
       "      <th>nr.employed</th>\n",
       "      <td>0.266604</td>\n",
       "      <td>0.266604</td>\n",
       "    </tr>\n",
       "    <tr>\n",
       "      <th>contact_telephone</th>\n",
       "      <td>-0.261576</td>\n",
       "      <td>0.261576</td>\n",
       "    </tr>\n",
       "    <tr>\n",
       "      <th>month_aug</th>\n",
       "      <td>0.213454</td>\n",
       "      <td>0.213454</td>\n",
       "    </tr>\n",
       "    <tr>\n",
       "      <th>poutcome_success</th>\n",
       "      <td>0.209191</td>\n",
       "      <td>0.209191</td>\n",
       "    </tr>\n",
       "    <tr>\n",
       "      <th>month_mar</th>\n",
       "      <td>0.196337</td>\n",
       "      <td>0.196337</td>\n",
       "    </tr>\n",
       "    <tr>\n",
       "      <th>poutcome_failure</th>\n",
       "      <td>-0.173941</td>\n",
       "      <td>0.173941</td>\n",
       "    </tr>\n",
       "    <tr>\n",
       "      <th>cons.conf.idx</th>\n",
       "      <td>0.155700</td>\n",
       "      <td>0.155700</td>\n",
       "    </tr>\n",
       "    <tr>\n",
       "      <th>month_jul</th>\n",
       "      <td>0.152177</td>\n",
       "      <td>0.152177</td>\n",
       "    </tr>\n",
       "    <tr>\n",
       "      <th>default_no</th>\n",
       "      <td>0.122336</td>\n",
       "      <td>0.122336</td>\n",
       "    </tr>\n",
       "    <tr>\n",
       "      <th>campaign</th>\n",
       "      <td>-0.120145</td>\n",
       "      <td>0.120145</td>\n",
       "    </tr>\n",
       "    <tr>\n",
       "      <th>day_of_week_mon</th>\n",
       "      <td>-0.100995</td>\n",
       "      <td>0.100995</td>\n",
       "    </tr>\n",
       "    <tr>\n",
       "      <th>contact_cellular</th>\n",
       "      <td>0.090730</td>\n",
       "      <td>0.090730</td>\n",
       "    </tr>\n",
       "    <tr>\n",
       "      <th>month_apr</th>\n",
       "      <td>0.089156</td>\n",
       "      <td>0.089156</td>\n",
       "    </tr>\n",
       "    <tr>\n",
       "      <th>month_oct</th>\n",
       "      <td>0.088819</td>\n",
       "      <td>0.088819</td>\n",
       "    </tr>\n",
       "    <tr>\n",
       "      <th>month_may</th>\n",
       "      <td>-0.068328</td>\n",
       "      <td>0.068328</td>\n",
       "    </tr>\n",
       "    <tr>\n",
       "      <th>month_jun</th>\n",
       "      <td>-0.065647</td>\n",
       "      <td>0.065647</td>\n",
       "    </tr>\n",
       "    <tr>\n",
       "      <th>month_nov</th>\n",
       "      <td>-0.064209</td>\n",
       "      <td>0.064209</td>\n",
       "    </tr>\n",
       "    <tr>\n",
       "      <th>job_retired</th>\n",
       "      <td>0.053319</td>\n",
       "      <td>0.053319</td>\n",
       "    </tr>\n",
       "    <tr>\n",
       "      <th>default_yes</th>\n",
       "      <td>-0.051704</td>\n",
       "      <td>0.051704</td>\n",
       "    </tr>\n",
       "    <tr>\n",
       "      <th>day_of_week_fri</th>\n",
       "      <td>-0.050429</td>\n",
       "      <td>0.050429</td>\n",
       "    </tr>\n",
       "    <tr>\n",
       "      <th>month_dec</th>\n",
       "      <td>0.045454</td>\n",
       "      <td>0.045454</td>\n",
       "    </tr>\n",
       "    <tr>\n",
       "      <th>previous</th>\n",
       "      <td>0.042651</td>\n",
       "      <td>0.042651</td>\n",
       "    </tr>\n",
       "    <tr>\n",
       "      <th>month_sep</th>\n",
       "      <td>0.041522</td>\n",
       "      <td>0.041522</td>\n",
       "    </tr>\n",
       "    <tr>\n",
       "      <th>job_blue-collar</th>\n",
       "      <td>-0.041145</td>\n",
       "      <td>0.041145</td>\n",
       "    </tr>\n",
       "    <tr>\n",
       "      <th>job_services</th>\n",
       "      <td>-0.040095</td>\n",
       "      <td>0.040095</td>\n",
       "    </tr>\n",
       "    <tr>\n",
       "      <th>day_of_week_wed</th>\n",
       "      <td>0.037376</td>\n",
       "      <td>0.037376</td>\n",
       "    </tr>\n",
       "    <tr>\n",
       "      <th>marital_divorced</th>\n",
       "      <td>-0.033206</td>\n",
       "      <td>0.033206</td>\n",
       "    </tr>\n",
       "    <tr>\n",
       "      <th>job_technician</th>\n",
       "      <td>0.031993</td>\n",
       "      <td>0.031993</td>\n",
       "    </tr>\n",
       "    <tr>\n",
       "      <th>job_student</th>\n",
       "      <td>0.029937</td>\n",
       "      <td>0.029937</td>\n",
       "    </tr>\n",
       "    <tr>\n",
       "      <th>job_unknown</th>\n",
       "      <td>-0.028814</td>\n",
       "      <td>0.028814</td>\n",
       "    </tr>\n",
       "    <tr>\n",
       "      <th>marital_single</th>\n",
       "      <td>0.025260</td>\n",
       "      <td>0.025260</td>\n",
       "    </tr>\n",
       "    <tr>\n",
       "      <th>education</th>\n",
       "      <td>0.017239</td>\n",
       "      <td>0.017239</td>\n",
       "    </tr>\n",
       "    <tr>\n",
       "      <th>job_entrepreneur</th>\n",
       "      <td>0.015374</td>\n",
       "      <td>0.015374</td>\n",
       "    </tr>\n",
       "    <tr>\n",
       "      <th>marital_unknown</th>\n",
       "      <td>0.012915</td>\n",
       "      <td>0.012915</td>\n",
       "    </tr>\n",
       "    <tr>\n",
       "      <th>day_of_week_tue</th>\n",
       "      <td>0.012820</td>\n",
       "      <td>0.012820</td>\n",
       "    </tr>\n",
       "    <tr>\n",
       "      <th>job_admin.</th>\n",
       "      <td>0.012724</td>\n",
       "      <td>0.012724</td>\n",
       "    </tr>\n",
       "    <tr>\n",
       "      <th>job_housemaid</th>\n",
       "      <td>-0.012463</td>\n",
       "      <td>0.012463</td>\n",
       "    </tr>\n",
       "    <tr>\n",
       "      <th>housing_no</th>\n",
       "      <td>0.006867</td>\n",
       "      <td>0.006867</td>\n",
       "    </tr>\n",
       "    <tr>\n",
       "      <th>housing_unknown</th>\n",
       "      <td>-0.006034</td>\n",
       "      <td>0.006034</td>\n",
       "    </tr>\n",
       "    <tr>\n",
       "      <th>job_self-employed</th>\n",
       "      <td>-0.005923</td>\n",
       "      <td>0.005923</td>\n",
       "    </tr>\n",
       "    <tr>\n",
       "      <th>age</th>\n",
       "      <td>-0.004555</td>\n",
       "      <td>0.004555</td>\n",
       "    </tr>\n",
       "    <tr>\n",
       "      <th>marital_married</th>\n",
       "      <td>-0.003702</td>\n",
       "      <td>0.003702</td>\n",
       "    </tr>\n",
       "    <tr>\n",
       "      <th>job_management</th>\n",
       "      <td>-0.003224</td>\n",
       "      <td>0.003224</td>\n",
       "    </tr>\n",
       "    <tr>\n",
       "      <th>loan_no</th>\n",
       "      <td>0.000823</td>\n",
       "      <td>0.000823</td>\n",
       "    </tr>\n",
       "    <tr>\n",
       "      <th>loan_unknown</th>\n",
       "      <td>-0.000005</td>\n",
       "      <td>0.000005</td>\n",
       "    </tr>\n",
       "    <tr>\n",
       "      <th>job_unemployed</th>\n",
       "      <td>0.000000</td>\n",
       "      <td>0.000000</td>\n",
       "    </tr>\n",
       "    <tr>\n",
       "      <th>loan_yes</th>\n",
       "      <td>0.000000</td>\n",
       "      <td>0.000000</td>\n",
       "    </tr>\n",
       "    <tr>\n",
       "      <th>day_of_week_thu</th>\n",
       "      <td>0.000000</td>\n",
       "      <td>0.000000</td>\n",
       "    </tr>\n",
       "    <tr>\n",
       "      <th>housing_yes</th>\n",
       "      <td>0.000000</td>\n",
       "      <td>0.000000</td>\n",
       "    </tr>\n",
       "    <tr>\n",
       "      <th>default_unknown</th>\n",
       "      <td>0.000000</td>\n",
       "      <td>0.000000</td>\n",
       "    </tr>\n",
       "    <tr>\n",
       "      <th>poutcome_nonexistent</th>\n",
       "      <td>0.000000</td>\n",
       "      <td>0.000000</td>\n",
       "    </tr>\n",
       "  </tbody>\n",
       "</table>\n",
       "</div>"
      ],
      "text/plain": [
       "                      Coefficient  Absolute_Coefficient\n",
       "emp.var.rate            -1.888455              1.888455\n",
       "cons.price.idx           0.929644              0.929644\n",
       "euribor3m                0.347712              0.347712\n",
       "nr.employed              0.266604              0.266604\n",
       "contact_telephone       -0.261576              0.261576\n",
       "month_aug                0.213454              0.213454\n",
       "poutcome_success         0.209191              0.209191\n",
       "month_mar                0.196337              0.196337\n",
       "poutcome_failure        -0.173941              0.173941\n",
       "cons.conf.idx            0.155700              0.155700\n",
       "month_jul                0.152177              0.152177\n",
       "default_no               0.122336              0.122336\n",
       "campaign                -0.120145              0.120145\n",
       "day_of_week_mon         -0.100995              0.100995\n",
       "contact_cellular         0.090730              0.090730\n",
       "month_apr                0.089156              0.089156\n",
       "month_oct                0.088819              0.088819\n",
       "month_may               -0.068328              0.068328\n",
       "month_jun               -0.065647              0.065647\n",
       "month_nov               -0.064209              0.064209\n",
       "job_retired              0.053319              0.053319\n",
       "default_yes             -0.051704              0.051704\n",
       "day_of_week_fri         -0.050429              0.050429\n",
       "month_dec                0.045454              0.045454\n",
       "previous                 0.042651              0.042651\n",
       "month_sep                0.041522              0.041522\n",
       "job_blue-collar         -0.041145              0.041145\n",
       "job_services            -0.040095              0.040095\n",
       "day_of_week_wed          0.037376              0.037376\n",
       "marital_divorced        -0.033206              0.033206\n",
       "job_technician           0.031993              0.031993\n",
       "job_student              0.029937              0.029937\n",
       "job_unknown             -0.028814              0.028814\n",
       "marital_single           0.025260              0.025260\n",
       "education                0.017239              0.017239\n",
       "job_entrepreneur         0.015374              0.015374\n",
       "marital_unknown          0.012915              0.012915\n",
       "day_of_week_tue          0.012820              0.012820\n",
       "job_admin.               0.012724              0.012724\n",
       "job_housemaid           -0.012463              0.012463\n",
       "housing_no               0.006867              0.006867\n",
       "housing_unknown         -0.006034              0.006034\n",
       "job_self-employed       -0.005923              0.005923\n",
       "age                     -0.004555              0.004555\n",
       "marital_married         -0.003702              0.003702\n",
       "job_management          -0.003224              0.003224\n",
       "loan_no                  0.000823              0.000823\n",
       "loan_unknown            -0.000005              0.000005\n",
       "job_unemployed           0.000000              0.000000\n",
       "loan_yes                 0.000000              0.000000\n",
       "day_of_week_thu          0.000000              0.000000\n",
       "housing_yes              0.000000              0.000000\n",
       "default_unknown          0.000000              0.000000\n",
       "poutcome_nonexistent     0.000000              0.000000"
      ]
     },
     "execution_count": 80,
     "metadata": {},
     "output_type": "execute_result"
    }
   ],
   "source": [
    "# Displaying feature_importance dataframe\n",
    "feature_importance_lr"
   ]
  },
  {
   "cell_type": "markdown",
   "metadata": {},
   "source": [
    "**Observations:**\n",
    "- Majority of the social and economic attributes that we explored earlier are key drivers for clients subscribing to a term deposit\n",
    "- August, March and July are the best months for getting clients to subscribe to term deposit\n",
    "- Successful previous marking campaign also key driver for client subscription\n",
    "- With respect to the client, retired clients are more likely to subscribe to term deposit"
   ]
  },
  {
   "cell_type": "markdown",
   "metadata": {},
   "source": [
    "### Improved KNN"
   ]
  },
  {
   "cell_type": "code",
   "execution_count": 81,
   "metadata": {},
   "outputs": [
    {
     "data": {
      "text/plain": [
       "Pipeline(steps=[('scale', StandardScaler()), ('model', KNeighborsClassifier())])"
      ]
     },
     "execution_count": 81,
     "metadata": {},
     "output_type": "execute_result"
    }
   ],
   "source": [
    "# Creating pipeline\n",
    "knn_pipe = Pipeline([\n",
    "         ('scale', StandardScaler()),\n",
    "         ('model', KNeighborsClassifier())\n",
    "    ])\n",
    "knn_pipe"
   ]
  },
  {
   "cell_type": "code",
   "execution_count": 82,
   "metadata": {},
   "outputs": [
    {
     "data": {
      "text/plain": [
       "GridSearchCV(estimator=Pipeline(steps=[('scale', StandardScaler()),\n",
       "                                       ('model', KNeighborsClassifier())]),\n",
       "             param_grid={'model__n_neighbors': range(1, 30, 2)})"
      ]
     },
     "execution_count": 82,
     "metadata": {},
     "output_type": "execute_result"
    }
   ],
   "source": [
    "# Define grid parameters\n",
    "\n",
    "# Originally used range(1, 101, 2) which took very long possibly due to size of dataset\n",
    "# Experimented with the range of n_neighbors\n",
    "knn_pipe_params = {'model__n_neighbors': range(1, 30, 2)}\n",
    "knn_grid = GridSearchCV(knn_pipe, param_grid=knn_pipe_params)\n",
    "knn_grid.fit(X_train_new, y_train_new)"
   ]
  },
  {
   "cell_type": "code",
   "execution_count": 83,
   "metadata": {
    "scrolled": true
   },
   "outputs": [
    {
     "name": "stdout",
     "output_type": "stream",
     "text": [
      "Best parameters found:  {'model__n_neighbors': 25}\n",
      "Best cross-validation score:  0.8966225028884697\n"
     ]
    }
   ],
   "source": [
    "# Get best params\n",
    "# To view the best parameters and score\n",
    "print(\"Best parameters found: \", knn_grid.best_params_)\n",
    "print(\"Best cross-validation score: \", knn_grid.best_score_)"
   ]
  },
  {
   "cell_type": "code",
   "execution_count": 84,
   "metadata": {},
   "outputs": [],
   "source": [
    "# Computing mean fit time\n",
    "knn_mean_fit_time= knn_grid.cv_results_['mean_fit_time']\n",
    "knn_final_time = np.mean(knn_mean_fit_time)"
   ]
  },
  {
   "cell_type": "code",
   "execution_count": 85,
   "metadata": {},
   "outputs": [
    {
     "name": "stdout",
     "output_type": "stream",
     "text": [
      "Training accuracy: 0.9011\n",
      "Testing accuracy: 0.8966\n"
     ]
    }
   ],
   "source": [
    "# Predictions using train set\n",
    "knn_grid_train_predictions = knn_grid.predict(X_train_new)\n",
    "\n",
    "# Predictions using test set\n",
    "knn_grid_test_predictions = knn_grid.predict(X_test_new)\n",
    "\n",
    "# Compute accuracy score for Train and Test\n",
    "knn_grid_train_accuracy = accuracy_score(y_train_new, knn_grid_train_predictions)\n",
    "knn_grid_test_accuracy = accuracy_score(y_test_new, knn_grid_test_predictions)\n",
    "\n",
    "print(f\"Training accuracy: {knn_grid_train_accuracy:.4f}\")\n",
    "print(f\"Testing accuracy: {knn_grid_test_accuracy:.4f}\")"
   ]
  },
  {
   "cell_type": "code",
   "execution_count": 86,
   "metadata": {
    "scrolled": true
   },
   "outputs": [
    {
     "name": "stdout",
     "output_type": "stream",
     "text": [
      "              precision    recall  f1-score   support\n",
      "\n",
      "           0       0.91      0.98      0.94     10363\n",
      "           1       0.62      0.22      0.33      1325\n",
      "\n",
      "    accuracy                           0.90     11688\n",
      "   macro avg       0.77      0.60      0.63     11688\n",
      "weighted avg       0.88      0.90      0.87     11688\n",
      "\n"
     ]
    }
   ],
   "source": [
    "# Display classification report\n",
    "print(classification_report(y_test_new, knn_grid_test_predictions))"
   ]
  },
  {
   "cell_type": "markdown",
   "metadata": {},
   "source": [
    "**Observations:**\n",
    "- Recall score of the minority class (0.22) is comparable to that of Logistic Regression"
   ]
  },
  {
   "cell_type": "code",
   "execution_count": 87,
   "metadata": {},
   "outputs": [],
   "source": [
    "# appending results\n",
    "model_list_2.append('KNN')\n",
    "time_list_2.append(knn_final_time)\n",
    "test_recall.append('0.22')\n",
    "test_accuracy_2.append(knn_grid_test_accuracy)"
   ]
  },
  {
   "cell_type": "markdown",
   "metadata": {},
   "source": [
    "### Improved Decision Tree"
   ]
  },
  {
   "cell_type": "code",
   "execution_count": 88,
   "metadata": {},
   "outputs": [
    {
     "data": {
      "text/plain": [
       "Pipeline(steps=[('scale', StandardScaler()),\n",
       "                ('model', DecisionTreeClassifier(random_state=42))])"
      ]
     },
     "execution_count": 88,
     "metadata": {},
     "output_type": "execute_result"
    }
   ],
   "source": [
    "# Creating pipeline\n",
    "tree_pipe = Pipeline([\n",
    "        ('scale', StandardScaler()),\n",
    "        ('model', DecisionTreeClassifier(random_state=42))\n",
    "    ])\n",
    "\n",
    "tree_pipe"
   ]
  },
  {
   "cell_type": "code",
   "execution_count": 89,
   "metadata": {
    "scrolled": true
   },
   "outputs": [
    {
     "data": {
      "text/plain": [
       "GridSearchCV(estimator=Pipeline(steps=[('scale', StandardScaler()),\n",
       "                                       ('model',\n",
       "                                        DecisionTreeClassifier(random_state=42))]),\n",
       "             param_grid={'model__max_depth': range(1, 30)}, scoring='recall')"
      ]
     },
     "execution_count": 89,
     "metadata": {},
     "output_type": "execute_result"
    }
   ],
   "source": [
    "# Define Parameter Grid\n",
    "params = {'model__max_depth': range(1, 30)}\n",
    "\n",
    "tree_grid = GridSearchCV(tree_pipe, param_grid=params, scoring = 'recall')\n",
    "tree_grid.fit(X_train_new, y_train_new)"
   ]
  },
  {
   "cell_type": "code",
   "execution_count": 90,
   "metadata": {
    "scrolled": true
   },
   "outputs": [
    {
     "name": "stdout",
     "output_type": "stream",
     "text": [
      "Best parameters found:  {'model__max_depth': 28}\n",
      "Best cross-validation score:  0.3343042071197411\n"
     ]
    }
   ],
   "source": [
    "# Get best params\n",
    "# To view the best parameters and score\n",
    "print(\"Best parameters found: \", tree_grid.best_params_)\n",
    "print(\"Best cross-validation score: \", tree_grid.best_score_)"
   ]
  },
  {
   "cell_type": "code",
   "execution_count": 91,
   "metadata": {},
   "outputs": [],
   "source": [
    "# Computing mean fit time\n",
    "tree_mean_fit_time= tree_grid.cv_results_['mean_fit_time']\n",
    "tree_final_time = np.mean(tree_mean_fit_time)"
   ]
  },
  {
   "cell_type": "code",
   "execution_count": 92,
   "metadata": {
    "scrolled": true
   },
   "outputs": [
    {
     "name": "stdout",
     "output_type": "stream",
     "text": [
      "Training accuracy: 0.9938\n",
      "Testing accuracy: 0.8376\n"
     ]
    }
   ],
   "source": [
    "# Computing Train and Test accuracy\n",
    "\n",
    "# Predictions using train set\n",
    "decision_tree_grid_train_predictions = tree_grid.predict(X_train_new)\n",
    "\n",
    "# Predictions using test set\n",
    "decision_tree_grid_test_predictions = tree_grid.predict(X_test_new)\n",
    "\n",
    "# Compute accuracy score for Train and Test\n",
    "decision_tree_grid_train_accuracy = accuracy_score(y_train_new, decision_tree_grid_train_predictions)\n",
    "decision_tree_grid_test_accuracy = accuracy_score(y_test_new, decision_tree_grid_test_predictions)\n",
    "\n",
    "print(f\"Training accuracy: {decision_tree_grid_train_accuracy:.4f}\")\n",
    "print(f\"Testing accuracy: {decision_tree_grid_test_accuracy:.4f}\")"
   ]
  },
  {
   "cell_type": "code",
   "execution_count": 93,
   "metadata": {
    "scrolled": true
   },
   "outputs": [
    {
     "name": "stdout",
     "output_type": "stream",
     "text": [
      "              precision    recall  f1-score   support\n",
      "\n",
      "           0       0.91      0.90      0.91     10363\n",
      "           1       0.30      0.32      0.31      1325\n",
      "\n",
      "    accuracy                           0.84     11688\n",
      "   macro avg       0.61      0.61      0.61     11688\n",
      "weighted avg       0.84      0.84      0.84     11688\n",
      "\n"
     ]
    }
   ],
   "source": [
    "# Display classification report\n",
    "print(classification_report(y_test_new, decision_tree_grid_test_predictions))"
   ]
  },
  {
   "cell_type": "markdown",
   "metadata": {},
   "source": [
    "**Observations:**\n",
    "- Recall score of the minority class is slightly higher at 0.32 compared to the previous two models. However, improvement of recall score comes at the expense of precision score"
   ]
  },
  {
   "cell_type": "code",
   "execution_count": 94,
   "metadata": {},
   "outputs": [],
   "source": [
    "# appending results\n",
    "model_list_2.append('Decision Tree')\n",
    "time_list_2.append(tree_final_time)\n",
    "test_recall.append('0.32')\n",
    "test_accuracy_2.append(decision_tree_grid_test_accuracy)"
   ]
  },
  {
   "cell_type": "code",
   "execution_count": 95,
   "metadata": {},
   "outputs": [
    {
     "data": {
      "image/png": "[encoded data removed]",
      "text/plain": [
       "<Figure size 1000x800 with 1 Axes>"
      ]
     },
     "metadata": {},
     "output_type": "display_data"
    }
   ],
   "source": [
    "# Retrieving the best decision tree model\n",
    "best_tree_model = tree_grid.best_estimator_.named_steps['model']\n",
    "\n",
    "# Extracting feature importances\n",
    "feature_importances = best_tree_model.feature_importances_\n",
    "features = X_train_new.columns  # Ensure X_train is the DataFrame used for training with proper feature names\n",
    "\n",
    "# Create a DataFrame for feature importance\n",
    "feature_importance_tree_df = pd.DataFrame({\n",
    "    'Feature': features,\n",
    "    'Importance': feature_importances\n",
    "}).sort_values(by='Importance', ascending=False)\n",
    "\n",
    "# Plot the feature importance\n",
    "plt.figure(figsize=(10, 8))\n",
    "sns.barplot(x='Importance', y='Feature', data=feature_importance_tree_df)\n",
    "plt.xlabel('Importance')\n",
    "plt.ylabel('Features')\n",
    "plt.title('Decision Tree Feature Importance')\n",
    "plt.show()"
   ]
  },
  {
   "cell_type": "markdown",
   "metadata": {},
   "source": [
    "**Observations:**\n",
    "- Age and education are important features \n",
    "- Social and economic attributes like number of employees and euribor 3 month rate also important. This overlaps with the feature importance results in the logistic regression model\n",
    "- Successful previous marketing campaign also important\n",
    "- With respect to client, clients whose job title is admin or technician are more likely to subscribe to a term deposit."
   ]
  },
  {
   "cell_type": "markdown",
   "metadata": {},
   "source": [
    "### Improved SVM"
   ]
  },
  {
   "cell_type": "code",
   "execution_count": 96,
   "metadata": {},
   "outputs": [
    {
     "data": {
      "text/plain": [
       "Pipeline(steps=[('scale', StandardScaler()),\n",
       "                ('model', SVC(coef0=1, probability=True))])"
      ]
     },
     "execution_count": 96,
     "metadata": {},
     "output_type": "execute_result"
    }
   ],
   "source": [
    "# Creating pipeline \n",
    "svm_pipe = Pipeline([\n",
    "        ('scale', StandardScaler()),\n",
    "        ('model', SVC(probability=True, coef0=1))\n",
    "    ])\n",
    "\n",
    "svm_pipe"
   ]
  },
  {
   "cell_type": "code",
   "execution_count": 97,
   "metadata": {},
   "outputs": [],
   "source": [
    "# Define parameter grid\n",
    "# including all three parameters: kernal, degree and gamma took very long\n",
    "# attempted to include only kernal and gamma but fit time remained very long\n",
    "# gamma can take on numeric values or predefined options like 'scale' and 'auto'\n",
    "# params = {'model__kernel': ('linear', 'poly'),'model__gamma': ['scale', 'auto']}\n",
    "# svm_grid = GridSearchCV(svm_pipe, param_grid=params, scoring = 'recall')\n",
    "# svm_grid.fit(X_train, y_train)"
   ]
  },
  {
   "cell_type": "markdown",
   "metadata": {},
   "source": [
    "**Notes:**\n",
    "- Overall, SVM appears computationally expensive, especially with large datasets and multiple hyperparameters to tune. This aligns with the longer fit time we saw with the base model.\n",
    "- Utlimately, I was unable to run the full svm grid search even after removing some parameters from params. **Therefore, no results were obtained for this model and the code above has been commented out.**\n",
    "- Future considerations to potentially make the process more efficient:\n",
    "    - further reduce the dataset size \n",
    "    - perform RandomizedSearchCV instead of full GridSearchCV"
   ]
  },
  {
   "cell_type": "markdown",
   "metadata": {},
   "source": [
    "### Summarizing results for updated models"
   ]
  },
  {
   "cell_type": "code",
   "execution_count": 98,
   "metadata": {
    "scrolled": true
   },
   "outputs": [
    {
     "data": {
      "text/html": [
       "<div>\n",
       "<style scoped>\n",
       "    .dataframe tbody tr th:only-of-type {\n",
       "        vertical-align: middle;\n",
       "    }\n",
       "\n",
       "    .dataframe tbody tr th {\n",
       "        vertical-align: top;\n",
       "    }\n",
       "\n",
       "    .dataframe thead th {\n",
       "        text-align: right;\n",
       "    }\n",
       "</style>\n",
       "<table border=\"1\" class=\"dataframe\">\n",
       "  <thead>\n",
       "    <tr style=\"text-align: right;\">\n",
       "      <th></th>\n",
       "      <th>Model</th>\n",
       "      <th>Mean Fit Time (seconds)</th>\n",
       "      <th>Test Recall Score</th>\n",
       "      <th>Test Accuracy</th>\n",
       "    </tr>\n",
       "  </thead>\n",
       "  <tbody>\n",
       "    <tr>\n",
       "      <th>0</th>\n",
       "      <td>Logistic Regression</td>\n",
       "      <td>2.264442</td>\n",
       "      <td>0.23</td>\n",
       "      <td>0.899555</td>\n",
       "    </tr>\n",
       "    <tr>\n",
       "      <th>1</th>\n",
       "      <td>KNN</td>\n",
       "      <td>0.029519</td>\n",
       "      <td>0.22</td>\n",
       "      <td>0.896561</td>\n",
       "    </tr>\n",
       "    <tr>\n",
       "      <th>2</th>\n",
       "      <td>Decision Tree</td>\n",
       "      <td>0.137322</td>\n",
       "      <td>0.32</td>\n",
       "      <td>0.837611</td>\n",
       "    </tr>\n",
       "  </tbody>\n",
       "</table>\n",
       "</div>"
      ],
      "text/plain": [
       "                 Model  Mean Fit Time (seconds) Test Recall Score  \\\n",
       "0  Logistic Regression                 2.264442              0.23   \n",
       "1                  KNN                 0.029519              0.22   \n",
       "2        Decision Tree                 0.137322              0.32   \n",
       "\n",
       "   Test Accuracy  \n",
       "0       0.899555  \n",
       "1       0.896561  \n",
       "2       0.837611  "
      ]
     },
     "execution_count": 98,
     "metadata": {},
     "output_type": "execute_result"
    }
   ],
   "source": [
    "updated_model_results_df = pd.DataFrame({'Model': model_list_2, 'Mean Fit Time (seconds)': time_list_2, 'Test Recall Score' : test_recall, 'Test Accuracy': test_accuracy_2})\n",
    "updated_model_results_df"
   ]
  },
  {
   "cell_type": "markdown",
   "metadata": {},
   "source": [
    "**Observations:**\n",
    "- Decision Tree model achieves highest recall score, but the test accuracy slightly drops"
   ]
  },
  {
   "cell_type": "markdown",
   "metadata": {},
   "source": [
    "**Note:**\n",
    "- No results were obtained for updated SVM due to long run time."
   ]
  },
  {
   "cell_type": "markdown",
   "metadata": {},
   "source": [
    "### 12. Recap and Findings"
   ]
  },
  {
   "cell_type": "markdown",
   "metadata": {},
   "source": [
    "### 12a. Recap:"
   ]
  },
  {
   "cell_type": "markdown",
   "metadata": {},
   "source": [
    "- First, we explored the dataset and found that there was **siginificant class imbalance in the target variable**.\n",
    "- We then built 4 models (Logistic Regression, KNN, Decision Tree and SVM) using features related to bank client. For these models, we compared fit time along with Training and Testing accuracy. All models shared similar performances in terms of accuracy and fit time (SVM took the longest).\n",
    "- Next, we proceeded to improve our models using GridSearch to find the best combination of hyperparameters. Since the goal is to identify more clients who are likely to subscribe to a term deposit, we **set 'scoring' parameter to recall (focus on getting best recall score)**.\n",
    "- To gain insight into which features are key drivers of client subscription, we looked at the **coefficient/ feature importance in the logistice regression and decision tree model**"
   ]
  },
  {
   "cell_type": "markdown",
   "metadata": {},
   "source": [
    "### 12b. Findings:"
   ]
  },
  {
   "cell_type": "markdown",
   "metadata": {},
   "source": [
    "- Among the 4 models, SVM took the longest to fit. Given the long fit time, this suggests that SVM is computationally expensive, especially with larger datasets and multiple hyperparameters to tune. In order to utilize SVM, it may be necessary to further reduce the size of the dataset or perform RandomizedSearchCV instead of full GridSearchCV.\n",
    "- The improved Decision Tree model achieved the highest recall score (0.32) at the expense of precision score compared to that of Logsitic Regression Model and KNN.\n",
    "- Able to extract feature importance from both Logistic Regression Model and Decision Tree. These two models allow for better interpretation of our results. More specifically, we found that several social and economic attributes are key drivers for client subscription. Additionally, features like age, education, previous marketing campaign success and particular months (August, March, July) are also important to consider."
   ]
  },
  {
   "cell_type": "markdown",
   "metadata": {},
   "source": [
    "### 13. Future Consideration and Next Steps:"
   ]
  },
  {
   "cell_type": "markdown",
   "metadata": {},
   "source": [
    "Overall, we were able to gain meaningful insight into key drivers for client subscription for term deposit. While the Decision Tree model achieved the highest recall score, the score is still relatively low. Further preprocessing and hyperparameter tuning are necessary to optimize the recall score. Additionally, it would be beneficialt to retry using the SVM after reducing the size of the dataset."
   ]
  },
  {
   "cell_type": "markdown",
   "metadata": {},
   "source": [
    "##### Questions"
   ]
  }
 ],
 "metadata": {
  "kernelspec": {
   "display_name": "Python 3 (ipykernel)",
   "language": "python",
   "name": "python3"
  },
  "language_info": {
   "codemirror_mode": {
    "name": "ipython",
    "version": 3
   },
   "file_extension": ".py",
   "mimetype": "text/x-python",
   "name": "python",
   "nbconvert_exporter": "python",
   "pygments_lexer": "ipython3",
   "version": "3.9.13"
  },
  "widgets": {
   "application/vnd.jupyter.widget-state+json": {
    "state": {},
    "version_major": 2,
    "version_minor": 0
   }
  }
 },
 "nbformat": 4,
 "nbformat_minor": 4
}
